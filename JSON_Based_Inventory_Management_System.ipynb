{
  "nbformat": 4,
  "nbformat_minor": 0,
  "metadata": {
    "colab": {
      "name": "JSON Based Inventory Management System.ipynb",
      "provenance": [],
      "collapsed_sections": []
    },
    "kernelspec": {
      "name": "python3",
      "display_name": "Python 3"
    },
    "language_info": {
      "name": "python"
    }
  },
  "cells": [
    {
      "cell_type": "markdown",
      "metadata": {
        "id": "1qzTxf2MJdff"
      },
      "source": [
        "## **Create Record of Inventory and record.json file**"
      ]
    },
    {
      "cell_type": "code",
      "metadata": {
        "id": "KmnVRpsgF2G5"
      },
      "source": [
        "record = {\n",
        "          'EID1001':{'Name':'Zebronics Powerplus','Quantity':40,'Price': 599, 'Category' : 'Speaker','Special Feature' : 'High Sound'},\n",
        "          'EID1002':{'Name':'Boat stone 190f','Quantity':50,'Price':999, 'Category' : 'Speaker','Special Feature' : 'High Bass'},\n",
        "          'EID1003':{'Name':'Mivi Play 5w','Quantity':35, 'Price':499, 'Category' : 'Speaker','Special Feature' : 'High Bass' },\n",
        "          'EID1004':{'Name':'One Plus Bullets','Quantity':30,'Price': 1599, 'Category' : 'Speaker','Special Feature' : 'High Bass' },\n",
        "          'EID1005':{'Name':'Boat Rockerz','Quantity':42,'Price': 899, 'Category' : 'Speaker','Special Feature' :  'High Sound'},\n",
        "          'EID1006':{'Name':'Redmi Trimmer','Quantity':80,'Price': 1499, 'Category' : 'Trimmer','Special Feature' : 'Water Resistant' },\n",
        "          'EID1007':{'Name':'Realme Trimmer','Quantity':50,'Price': 1599, 'Category' : 'Trimmer','Special Feature' : 'Long Battery Life'},\n",
        "          'EID1008':{'Name':'Realme 5','Quantity':60,'Price': 12999, 'Category' : 'Phone','Special Feature' : '48Mp cam'},\n",
        "          'EID1009':{'Name':'Realme Narzo 10','Quantity':80,'Price':11999, 'Category' : 'Phone','Special Feature' : '64Mp cam'},\n",
        "          'EID1010':{'Name':'Redmi 9i','Quantity':75,'Price': 9299, 'Category' : 'Phone','Special Feature' : 'Low Cost'},\n",
        "          'EID1011':{'Name':'Redmi Note 9','Quantity':50,'Price': 10999, 'Category' : 'Phone','Special Feature' : 'Long Battery Life'},\n",
        "          'EID1012':{'Name':'Redmi Note 10','Quantity':45,'Price': 11999, 'Category' : 'Phone','Special Feature' : '64Mp Selfie Cam'},\n",
        "          'EID1013':{'Name':'One Plus XT','Quantity':25,'Price': 25999, 'Category' : 'Phone','Special Feature' : '108Mp Quad cam'},\n",
        "          'EID1014':{'Name':'IPhone XR','Quantity':30,'Price': 35000, 'Category' : 'Phone','Special Feature' : 'Camera and Processor'},\n",
        "          'EID1015':{'Name':'Realme XT','Quantity':55,'Price': 20000, 'Category' : 'Phone','Special Feature' : 'Long Battery Life'},\n",
        "          'EID1016':{'Name':'Mi Powerbank','Quantity':80,'Price': 799, 'Category' : 'Powerbank','Special Feature' : 'Fast Charging' },\n",
        "          'EID1017':{'Name':'Realme Powerbank','Quantity':60,'Price': 899, 'Category' : 'Powerbank','Special Feature' : 'Fast Charging'},\n",
        "          'EID1018':{'Name':'Mi USB Cable','Quantity':100,'Price': 199, 'Category' : 'Cable','Special Feature' :'Fast Data Transfer' },\n",
        "          'EID1019':{'Name':'Realme USB Cable','Quantity':100,'Price': 199, 'Category' : 'Cable','Special Feature' : 'upto 3A charge'},\n",
        "          'EID1020':{'Name':'Mi 11X','Quantity':40,'Price': 40000, 'Category' : 'Phone','Special Feature' : 'Qualcomm Snapdragon 920G' },\n",
        "          'EID1021':{'Name':'Mi 10T','Quantity':30,'Price': 29999, 'Category' : 'Phone','Special Feature' : 'Qualcomm Snapdragon 720G'},\n",
        "          'EID1022':{'Name':'Redmi Note 10 Pro Max','Quantity':35,'Price': 18999, 'Category'  : 'Phone','Special Feature' : 'Snapdragon 88f'},\n",
        "          'EID1023':{'Name':'Redmi 9 Prime','Quantity':35,'Price': 11999, 'Category' : 'Phone','Special Feature' : '108Mp Quad Cam'},\n",
        "          'EID1024':{'Name':'Redmi Smart X','Quantity':20,'Price': 20999, 'Category' : 'TV','Special Feature' :'Sound Quality'},\n",
        "          'EID1025':{'Name':'Mi Tv 5X','Quantity':10,'Price': 50000, 'Category'  : 'TV','Special Feature' : 'Big Screen'},\n",
        "          'EID1026':{'Name':'Mi Notebook','Quantity':40,'Price': 45000, 'Category' : 'Laptop','Special Feature' : 'Gaming PC'},\n",
        "          'EID1027':{'Name':'Hp Notebook','Quantity':20,'Price': 52499, 'Category' : 'Laptop','Special Feature' : 'Graphics Quality'},\n",
        "          'EID1028':{'Name':'Redmi Earbuds','Quantity':80,'Price': 1899, 'Category' : 'Earbuds','Special Feature' : 'IPX4 Rated'},\n",
        "          'EID1029':{'Name':'Realme Earbuds','Quantity':85,'Price': 1999, 'Category' : 'Earbuds','Special Feature' : 'IPX4 Rated'},\n",
        "          'EID1030':{'Name':'Boat Earbuds','Quantity':70,'Price': 1399, 'Category' : 'Earbuds','Special Feature' : 'IPX4 Rated'}\n",
        "        }"
      ],
      "execution_count": 47,
      "outputs": []
    },
    {
      "cell_type": "code",
      "metadata": {
        "id": "4DzHKcNNM_nz"
      },
      "source": [
        "import json\n",
        "js=json.dumps(record)"
      ],
      "execution_count": 48,
      "outputs": []
    },
    {
      "cell_type": "code",
      "metadata": {
        "id": "JvN8rOchHqNe"
      },
      "source": [
        "fd=open('record.json','w')\n",
        "fd.write(js)\n",
        "fd.close()"
      ],
      "execution_count": 49,
      "outputs": []
    },
    {
      "cell_type": "markdown",
      "metadata": {
        "id": "4A_I5jtxJY5i"
      },
      "source": [
        "##Read Data from record.json file"
      ]
    },
    {
      "cell_type": "code",
      "metadata": {
        "id": "DfvoB7uUIT_6"
      },
      "source": [
        "fd=open('record.json','r')\n",
        "r=fd.read()\n",
        "fd.close()"
      ],
      "execution_count": 50,
      "outputs": []
    },
    {
      "cell_type": "code",
      "metadata": {
        "colab": {
          "base_uri": "https://localhost:8080/",
          "height": 120
        },
        "id": "5jyceiRMIYbi",
        "outputId": "bf067db5-188d-4a77-e024-d650b78898d7"
      },
      "source": [
        "r"
      ],
      "execution_count": 51,
      "outputs": [
        {
          "output_type": "execute_result",
          "data": {
            "application/vnd.google.colaboratory.intrinsic+json": {
              "type": "string"
            },
            "text/plain": [
              "'{\"EID1001\": {\"Name\": \"Zebronics Powerplus\", \"Quantity\": 40, \"Price\": 599, \"Category\": \"Speaker\", \"Special Feature\": \"High Sound\"}, \"EID1002\": {\"Name\": \"Boat stone 190f\", \"Quantity\": 50, \"Price\": 999, \"Category\": \"Speaker\", \"Special Feature\": \"High Bass\"}, \"EID1003\": {\"Name\": \"Mivi Play 5w\", \"Quantity\": 35, \"Price\": 499, \"Category\": \"Speaker\", \"Special Feature\": \"High Bass\"}, \"EID1004\": {\"Name\": \"One Plus Bullets\", \"Quantity\": 30, \"Price\": 1599, \"Category\": \"Speaker\", \"Special Feature\": \"High Bass\"}, \"EID1005\": {\"Name\": \"Boat Rockerz\", \"Quantity\": 42, \"Price\": 899, \"Category\": \"Speaker\", \"Special Feature\": \"High Sound\"}, \"EID1006\": {\"Name\": \"Redmi Trimmer\", \"Quantity\": 80, \"Price\": 1499, \"Category\": \"Trimmer\", \"Special Feature\": \"Water Resistant\"}, \"EID1007\": {\"Name\": \"Realme Trimmer\", \"Quantity\": 50, \"Price\": 1599, \"Category\": \"Trimmer\", \"Special Feature\": \"Long Battery Life\"}, \"EID1008\": {\"Name\": \"Realme 5\", \"Quantity\": 60, \"Price\": 12999, \"Category\": \"Phone\", \"Special Feature\": \"48Mp cam\"}, \"EID1009\": {\"Name\": \"Realme Narzo 10\", \"Quantity\": 80, \"Price\": 11999, \"Category\": \"Phone\", \"Special Feature\": \"64Mp cam\"}, \"EID1010\": {\"Name\": \"Redmi 9i\", \"Quantity\": 75, \"Price\": 9299, \"Category\": \"Phone\", \"Special Feature\": \"Low Cost\"}, \"EID1011\": {\"Name\": \"Redmi Note 9\", \"Quantity\": 50, \"Price\": 10999, \"Category\": \"Phone\", \"Special Feature\": \"Long Battery Life\"}, \"EID1012\": {\"Name\": \"Redmi Note 10\", \"Quantity\": 45, \"Price\": 11999, \"Category\": \"Phone\", \"Special Feature\": \"64Mp Selfie Cam\"}, \"EID1013\": {\"Name\": \"One Plus XT\", \"Quantity\": 25, \"Price\": 25999, \"Category\": \"Phone\", \"Special Feature\": \"108Mp Quad cam\"}, \"EID1014\": {\"Name\": \"IPhone XR\", \"Quantity\": 30, \"Price\": 35000, \"Category\": \"Phone\", \"Special Feature\": \"Camera and Processor\"}, \"EID1015\": {\"Name\": \"Realme XT\", \"Quantity\": 55, \"Price\": 20000, \"Category\": \"Phone\", \"Special Feature\": \"Long Battery Life\"}, \"EID1016\": {\"Name\": \"Mi Powerbank\", \"Quantity\": 80, \"Price\": 799, \"Category\": \"Powerbank\", \"Special Feature\": \"Fast Charging\"}, \"EID1017\": {\"Name\": \"Realme Powerbank\", \"Quantity\": 60, \"Price\": 899, \"Category\": \"Powerbank\", \"Special Feature\": \"Fast Charging\"}, \"EID1018\": {\"Name\": \"Mi USB Cable\", \"Quantity\": 100, \"Price\": 199, \"Category\": \"Cable\", \"Special Feature\": \"Fast Data Transfer\"}, \"EID1019\": {\"Name\": \"Realme USB Cable\", \"Quantity\": 100, \"Price\": 199, \"Category\": \"Cable\", \"Special Feature\": \"upto 3A charge\"}, \"EID1020\": {\"Name\": \"Mi 11X\", \"Quantity\": 40, \"Price\": 40000, \"Category\": \"Phone\", \"Special Feature\": \"Qualcomm Snapdragon 920G\"}, \"EID1021\": {\"Name\": \"Mi 10T\", \"Quantity\": 30, \"Price\": 29999, \"Category\": \"Phone\", \"Special Feature\": \"Qualcomm Snapdragon 720G\"}, \"EID1022\": {\"Name\": \"Redmi Note 10 Pro Max\", \"Quantity\": 35, \"Price\": 18999, \"Category\": \"Phone\", \"Special Feature\": \"Snapdragon 88f\"}, \"EID1023\": {\"Name\": \"Redmi 9 Prime\", \"Quantity\": 35, \"Price\": 11999, \"Category\": \"Phone\", \"Special Feature\": \"108Mp Quad Cam\"}, \"EID1024\": {\"Name\": \"Redmi Smart X\", \"Quantity\": 20, \"Price\": 20999, \"Category\": \"TV\", \"Special Feature\": \"Sound Quality\"}, \"EID1025\": {\"Name\": \"Mi Tv 5X\", \"Quantity\": 10, \"Price\": 50000, \"Category\": \"TV\", \"Special Feature\": \"Big Screen\"}, \"EID1026\": {\"Name\": \"Mi Notebook\", \"Quantity\": 40, \"Price\": 45000, \"Category\": \"Laptop\", \"Special Feature\": \"Gaming PC\"}, \"EID1027\": {\"Name\": \"Hp Notebook\", \"Quantity\": 20, \"Price\": 52499, \"Category\": \"Laptop\", \"Special Feature\": \"Graphics Quality\"}, \"EID1028\": {\"Name\": \"Redmi Earbuds\", \"Quantity\": 80, \"Price\": 1899, \"Category\": \"Earbuds\", \"Special Feature\": \"IPX4 Rated\"}, \"EID1029\": {\"Name\": \"Realme Earbuds\", \"Quantity\": 85, \"Price\": 1999, \"Category\": \"Earbuds\", \"Special Feature\": \"IPX4 Rated\"}, \"EID1030\": {\"Name\": \"Boat Earbuds\", \"Quantity\": 70, \"Price\": 1399, \"Category\": \"Earbuds\", \"Special Feature\": \"IPX4 Rated\"}}'"
            ]
          },
          "metadata": {},
          "execution_count": 51
        }
      ]
    },
    {
      "cell_type": "code",
      "metadata": {
        "colab": {
          "base_uri": "https://localhost:8080/"
        },
        "id": "za1rzKuaIi4r",
        "outputId": "6b3b8715-6159-4bb6-cfc0-a7a257dbcb1a"
      },
      "source": [
        "record=json.loads(r)\n",
        "record"
      ],
      "execution_count": 52,
      "outputs": [
        {
          "output_type": "execute_result",
          "data": {
            "text/plain": [
              "{'EID1001': {'Category': 'Speaker',\n",
              "  'Name': 'Zebronics Powerplus',\n",
              "  'Price': 599,\n",
              "  'Quantity': 40,\n",
              "  'Special Feature': 'High Sound'},\n",
              " 'EID1002': {'Category': 'Speaker',\n",
              "  'Name': 'Boat stone 190f',\n",
              "  'Price': 999,\n",
              "  'Quantity': 50,\n",
              "  'Special Feature': 'High Bass'},\n",
              " 'EID1003': {'Category': 'Speaker',\n",
              "  'Name': 'Mivi Play 5w',\n",
              "  'Price': 499,\n",
              "  'Quantity': 35,\n",
              "  'Special Feature': 'High Bass'},\n",
              " 'EID1004': {'Category': 'Speaker',\n",
              "  'Name': 'One Plus Bullets',\n",
              "  'Price': 1599,\n",
              "  'Quantity': 30,\n",
              "  'Special Feature': 'High Bass'},\n",
              " 'EID1005': {'Category': 'Speaker',\n",
              "  'Name': 'Boat Rockerz',\n",
              "  'Price': 899,\n",
              "  'Quantity': 42,\n",
              "  'Special Feature': 'High Sound'},\n",
              " 'EID1006': {'Category': 'Trimmer',\n",
              "  'Name': 'Redmi Trimmer',\n",
              "  'Price': 1499,\n",
              "  'Quantity': 80,\n",
              "  'Special Feature': 'Water Resistant'},\n",
              " 'EID1007': {'Category': 'Trimmer',\n",
              "  'Name': 'Realme Trimmer',\n",
              "  'Price': 1599,\n",
              "  'Quantity': 50,\n",
              "  'Special Feature': 'Long Battery Life'},\n",
              " 'EID1008': {'Category': 'Phone',\n",
              "  'Name': 'Realme 5',\n",
              "  'Price': 12999,\n",
              "  'Quantity': 60,\n",
              "  'Special Feature': '48Mp cam'},\n",
              " 'EID1009': {'Category': 'Phone',\n",
              "  'Name': 'Realme Narzo 10',\n",
              "  'Price': 11999,\n",
              "  'Quantity': 80,\n",
              "  'Special Feature': '64Mp cam'},\n",
              " 'EID1010': {'Category': 'Phone',\n",
              "  'Name': 'Redmi 9i',\n",
              "  'Price': 9299,\n",
              "  'Quantity': 75,\n",
              "  'Special Feature': 'Low Cost'},\n",
              " 'EID1011': {'Category': 'Phone',\n",
              "  'Name': 'Redmi Note 9',\n",
              "  'Price': 10999,\n",
              "  'Quantity': 50,\n",
              "  'Special Feature': 'Long Battery Life'},\n",
              " 'EID1012': {'Category': 'Phone',\n",
              "  'Name': 'Redmi Note 10',\n",
              "  'Price': 11999,\n",
              "  'Quantity': 45,\n",
              "  'Special Feature': '64Mp Selfie Cam'},\n",
              " 'EID1013': {'Category': 'Phone',\n",
              "  'Name': 'One Plus XT',\n",
              "  'Price': 25999,\n",
              "  'Quantity': 25,\n",
              "  'Special Feature': '108Mp Quad cam'},\n",
              " 'EID1014': {'Category': 'Phone',\n",
              "  'Name': 'IPhone XR',\n",
              "  'Price': 35000,\n",
              "  'Quantity': 30,\n",
              "  'Special Feature': 'Camera and Processor'},\n",
              " 'EID1015': {'Category': 'Phone',\n",
              "  'Name': 'Realme XT',\n",
              "  'Price': 20000,\n",
              "  'Quantity': 55,\n",
              "  'Special Feature': 'Long Battery Life'},\n",
              " 'EID1016': {'Category': 'Powerbank',\n",
              "  'Name': 'Mi Powerbank',\n",
              "  'Price': 799,\n",
              "  'Quantity': 80,\n",
              "  'Special Feature': 'Fast Charging'},\n",
              " 'EID1017': {'Category': 'Powerbank',\n",
              "  'Name': 'Realme Powerbank',\n",
              "  'Price': 899,\n",
              "  'Quantity': 60,\n",
              "  'Special Feature': 'Fast Charging'},\n",
              " 'EID1018': {'Category': 'Cable',\n",
              "  'Name': 'Mi USB Cable',\n",
              "  'Price': 199,\n",
              "  'Quantity': 100,\n",
              "  'Special Feature': 'Fast Data Transfer'},\n",
              " 'EID1019': {'Category': 'Cable',\n",
              "  'Name': 'Realme USB Cable',\n",
              "  'Price': 199,\n",
              "  'Quantity': 100,\n",
              "  'Special Feature': 'upto 3A charge'},\n",
              " 'EID1020': {'Category': 'Phone',\n",
              "  'Name': 'Mi 11X',\n",
              "  'Price': 40000,\n",
              "  'Quantity': 40,\n",
              "  'Special Feature': 'Qualcomm Snapdragon 920G'},\n",
              " 'EID1021': {'Category': 'Phone',\n",
              "  'Name': 'Mi 10T',\n",
              "  'Price': 29999,\n",
              "  'Quantity': 30,\n",
              "  'Special Feature': 'Qualcomm Snapdragon 720G'},\n",
              " 'EID1022': {'Category': 'Phone',\n",
              "  'Name': 'Redmi Note 10 Pro Max',\n",
              "  'Price': 18999,\n",
              "  'Quantity': 35,\n",
              "  'Special Feature': 'Snapdragon 88f'},\n",
              " 'EID1023': {'Category': 'Phone',\n",
              "  'Name': 'Redmi 9 Prime',\n",
              "  'Price': 11999,\n",
              "  'Quantity': 35,\n",
              "  'Special Feature': '108Mp Quad Cam'},\n",
              " 'EID1024': {'Category': 'TV',\n",
              "  'Name': 'Redmi Smart X',\n",
              "  'Price': 20999,\n",
              "  'Quantity': 20,\n",
              "  'Special Feature': 'Sound Quality'},\n",
              " 'EID1025': {'Category': 'TV',\n",
              "  'Name': 'Mi Tv 5X',\n",
              "  'Price': 50000,\n",
              "  'Quantity': 10,\n",
              "  'Special Feature': 'Big Screen'},\n",
              " 'EID1026': {'Category': 'Laptop',\n",
              "  'Name': 'Mi Notebook',\n",
              "  'Price': 45000,\n",
              "  'Quantity': 40,\n",
              "  'Special Feature': 'Gaming PC'},\n",
              " 'EID1027': {'Category': 'Laptop',\n",
              "  'Name': 'Hp Notebook',\n",
              "  'Price': 52499,\n",
              "  'Quantity': 20,\n",
              "  'Special Feature': 'Graphics Quality'},\n",
              " 'EID1028': {'Category': 'Earbuds',\n",
              "  'Name': 'Redmi Earbuds',\n",
              "  'Price': 1899,\n",
              "  'Quantity': 80,\n",
              "  'Special Feature': 'IPX4 Rated'},\n",
              " 'EID1029': {'Category': 'Earbuds',\n",
              "  'Name': 'Realme Earbuds',\n",
              "  'Price': 1999,\n",
              "  'Quantity': 85,\n",
              "  'Special Feature': 'IPX4 Rated'},\n",
              " 'EID1030': {'Category': 'Earbuds',\n",
              "  'Name': 'Boat Earbuds',\n",
              "  'Price': 1399,\n",
              "  'Quantity': 70,\n",
              "  'Special Feature': 'IPX4 Rated'}}"
            ]
          },
          "metadata": {},
          "execution_count": 52
        }
      ]
    },
    {
      "cell_type": "markdown",
      "metadata": {
        "id": "cNE2y2XgKd0p"
      },
      "source": [
        "##Add New Item into Inventory"
      ]
    },
    {
      "cell_type": "code",
      "metadata": {
        "colab": {
          "base_uri": "https://localhost:8080/"
        },
        "id": "7vYTkNSHIuWQ",
        "outputId": "37b80708-9eb1-4294-a83d-a7dd849c4785"
      },
      "source": [
        "prod_id=input(\"Enter Product ID : \")\n",
        "Name=input(\"Enter Name  : \")\n",
        "Quantity=int(input(\"Enter Quantity : \"))\n",
        "Price=int(input(\"Enter Price : \"))\n",
        "Category=input(\"Enter Category : \")\n",
        "Special_Feature=input(\"Enter Special Feature : \")"
      ],
      "execution_count": 53,
      "outputs": [
        {
          "name": "stdout",
          "output_type": "stream",
          "text": [
            "Enter Product ID : EID1032\n",
            "Enter Name  : Moto 6G\n",
            "Enter Quantity : 15\n",
            "Enter Price : 12999\n",
            "Enter Category : phone\n",
            "Enter Special Feature :  Large Storage\n"
          ]
        }
      ]
    },
    {
      "cell_type": "code",
      "metadata": {
        "colab": {
          "base_uri": "https://localhost:8080/"
        },
        "id": "-YuyEy9EJGEm",
        "outputId": "d8631ecf-5cb2-4a8b-a75b-2bbe23666a83"
      },
      "source": [
        "record[prod_id]={'Name' :Name,'Quantity':Quantity,'Price':Price,'Category':Category,'Special Feature':Special_Feature}\n",
        "record"
      ],
      "execution_count": 54,
      "outputs": [
        {
          "output_type": "execute_result",
          "data": {
            "text/plain": [
              "{'EID1001': {'Category': 'Speaker',\n",
              "  'Name': 'Zebronics Powerplus',\n",
              "  'Price': 599,\n",
              "  'Quantity': 40,\n",
              "  'Special Feature': 'High Sound'},\n",
              " 'EID1002': {'Category': 'Speaker',\n",
              "  'Name': 'Boat stone 190f',\n",
              "  'Price': 999,\n",
              "  'Quantity': 50,\n",
              "  'Special Feature': 'High Bass'},\n",
              " 'EID1003': {'Category': 'Speaker',\n",
              "  'Name': 'Mivi Play 5w',\n",
              "  'Price': 499,\n",
              "  'Quantity': 35,\n",
              "  'Special Feature': 'High Bass'},\n",
              " 'EID1004': {'Category': 'Speaker',\n",
              "  'Name': 'One Plus Bullets',\n",
              "  'Price': 1599,\n",
              "  'Quantity': 30,\n",
              "  'Special Feature': 'High Bass'},\n",
              " 'EID1005': {'Category': 'Speaker',\n",
              "  'Name': 'Boat Rockerz',\n",
              "  'Price': 899,\n",
              "  'Quantity': 42,\n",
              "  'Special Feature': 'High Sound'},\n",
              " 'EID1006': {'Category': 'Trimmer',\n",
              "  'Name': 'Redmi Trimmer',\n",
              "  'Price': 1499,\n",
              "  'Quantity': 80,\n",
              "  'Special Feature': 'Water Resistant'},\n",
              " 'EID1007': {'Category': 'Trimmer',\n",
              "  'Name': 'Realme Trimmer',\n",
              "  'Price': 1599,\n",
              "  'Quantity': 50,\n",
              "  'Special Feature': 'Long Battery Life'},\n",
              " 'EID1008': {'Category': 'Phone',\n",
              "  'Name': 'Realme 5',\n",
              "  'Price': 12999,\n",
              "  'Quantity': 60,\n",
              "  'Special Feature': '48Mp cam'},\n",
              " 'EID1009': {'Category': 'Phone',\n",
              "  'Name': 'Realme Narzo 10',\n",
              "  'Price': 11999,\n",
              "  'Quantity': 80,\n",
              "  'Special Feature': '64Mp cam'},\n",
              " 'EID1010': {'Category': 'Phone',\n",
              "  'Name': 'Redmi 9i',\n",
              "  'Price': 9299,\n",
              "  'Quantity': 75,\n",
              "  'Special Feature': 'Low Cost'},\n",
              " 'EID1011': {'Category': 'Phone',\n",
              "  'Name': 'Redmi Note 9',\n",
              "  'Price': 10999,\n",
              "  'Quantity': 50,\n",
              "  'Special Feature': 'Long Battery Life'},\n",
              " 'EID1012': {'Category': 'Phone',\n",
              "  'Name': 'Redmi Note 10',\n",
              "  'Price': 11999,\n",
              "  'Quantity': 45,\n",
              "  'Special Feature': '64Mp Selfie Cam'},\n",
              " 'EID1013': {'Category': 'Phone',\n",
              "  'Name': 'One Plus XT',\n",
              "  'Price': 25999,\n",
              "  'Quantity': 25,\n",
              "  'Special Feature': '108Mp Quad cam'},\n",
              " 'EID1014': {'Category': 'Phone',\n",
              "  'Name': 'IPhone XR',\n",
              "  'Price': 35000,\n",
              "  'Quantity': 30,\n",
              "  'Special Feature': 'Camera and Processor'},\n",
              " 'EID1015': {'Category': 'Phone',\n",
              "  'Name': 'Realme XT',\n",
              "  'Price': 20000,\n",
              "  'Quantity': 55,\n",
              "  'Special Feature': 'Long Battery Life'},\n",
              " 'EID1016': {'Category': 'Powerbank',\n",
              "  'Name': 'Mi Powerbank',\n",
              "  'Price': 799,\n",
              "  'Quantity': 80,\n",
              "  'Special Feature': 'Fast Charging'},\n",
              " 'EID1017': {'Category': 'Powerbank',\n",
              "  'Name': 'Realme Powerbank',\n",
              "  'Price': 899,\n",
              "  'Quantity': 60,\n",
              "  'Special Feature': 'Fast Charging'},\n",
              " 'EID1018': {'Category': 'Cable',\n",
              "  'Name': 'Mi USB Cable',\n",
              "  'Price': 199,\n",
              "  'Quantity': 100,\n",
              "  'Special Feature': 'Fast Data Transfer'},\n",
              " 'EID1019': {'Category': 'Cable',\n",
              "  'Name': 'Realme USB Cable',\n",
              "  'Price': 199,\n",
              "  'Quantity': 100,\n",
              "  'Special Feature': 'upto 3A charge'},\n",
              " 'EID1020': {'Category': 'Phone',\n",
              "  'Name': 'Mi 11X',\n",
              "  'Price': 40000,\n",
              "  'Quantity': 40,\n",
              "  'Special Feature': 'Qualcomm Snapdragon 920G'},\n",
              " 'EID1021': {'Category': 'Phone',\n",
              "  'Name': 'Mi 10T',\n",
              "  'Price': 29999,\n",
              "  'Quantity': 30,\n",
              "  'Special Feature': 'Qualcomm Snapdragon 720G'},\n",
              " 'EID1022': {'Category': 'Phone',\n",
              "  'Name': 'Redmi Note 10 Pro Max',\n",
              "  'Price': 18999,\n",
              "  'Quantity': 35,\n",
              "  'Special Feature': 'Snapdragon 88f'},\n",
              " 'EID1023': {'Category': 'Phone',\n",
              "  'Name': 'Redmi 9 Prime',\n",
              "  'Price': 11999,\n",
              "  'Quantity': 35,\n",
              "  'Special Feature': '108Mp Quad Cam'},\n",
              " 'EID1024': {'Category': 'TV',\n",
              "  'Name': 'Redmi Smart X',\n",
              "  'Price': 20999,\n",
              "  'Quantity': 20,\n",
              "  'Special Feature': 'Sound Quality'},\n",
              " 'EID1025': {'Category': 'TV',\n",
              "  'Name': 'Mi Tv 5X',\n",
              "  'Price': 50000,\n",
              "  'Quantity': 10,\n",
              "  'Special Feature': 'Big Screen'},\n",
              " 'EID1026': {'Category': 'Laptop',\n",
              "  'Name': 'Mi Notebook',\n",
              "  'Price': 45000,\n",
              "  'Quantity': 40,\n",
              "  'Special Feature': 'Gaming PC'},\n",
              " 'EID1027': {'Category': 'Laptop',\n",
              "  'Name': 'Hp Notebook',\n",
              "  'Price': 52499,\n",
              "  'Quantity': 20,\n",
              "  'Special Feature': 'Graphics Quality'},\n",
              " 'EID1028': {'Category': 'Earbuds',\n",
              "  'Name': 'Redmi Earbuds',\n",
              "  'Price': 1899,\n",
              "  'Quantity': 80,\n",
              "  'Special Feature': 'IPX4 Rated'},\n",
              " 'EID1029': {'Category': 'Earbuds',\n",
              "  'Name': 'Realme Earbuds',\n",
              "  'Price': 1999,\n",
              "  'Quantity': 85,\n",
              "  'Special Feature': 'IPX4 Rated'},\n",
              " 'EID1030': {'Category': 'Earbuds',\n",
              "  'Name': 'Boat Earbuds',\n",
              "  'Price': 1399,\n",
              "  'Quantity': 70,\n",
              "  'Special Feature': 'IPX4 Rated'},\n",
              " 'EID1032': {'Category': 'phone',\n",
              "  'Name': 'Moto 6G',\n",
              "  'Price': 12999,\n",
              "  'Quantity': 15,\n",
              "  'Special Feature': ' Large Storage'}}"
            ]
          },
          "metadata": {},
          "execution_count": 54
        }
      ]
    },
    {
      "cell_type": "code",
      "metadata": {
        "colab": {
          "base_uri": "https://localhost:8080/"
        },
        "id": "wkygPhGfJ7cX",
        "outputId": "2012fc26-53c9-416d-c84c-abe7e1a9bcc8"
      },
      "source": [
        "prod_id=input(\"Enter Product ID : \")\n",
        "Name=input(\"Enter Name  : \")\n",
        "Quantity=int(input(\"Enter Quantity : \"))\n",
        "Price=int(input(\"Enter Price : \"))\n",
        "Category=input(\"Enter Category : \")\n",
        "Special_Feature=input(\"Enter Special Feature : \")"
      ],
      "execution_count": 55,
      "outputs": [
        {
          "name": "stdout",
          "output_type": "stream",
          "text": [
            "Enter Product ID : EID1033\n",
            "Enter Name  : Dell Notebook\n",
            "Enter Quantity : 10\n",
            "Enter Price : 59999\n",
            "Enter Category : Laptop\n",
            "Enter Special Feature : Big Screen\n"
          ]
        }
      ]
    },
    {
      "cell_type": "code",
      "metadata": {
        "colab": {
          "base_uri": "https://localhost:8080/"
        },
        "id": "9DNpudcmKUaJ",
        "outputId": "98056f3d-6d6d-48dc-cea2-12b22450ac28"
      },
      "source": [
        "record[prod_id]={'Name' :Name,'Quantity':Quantity,'Price':Price,'Category':Category,'Special Feature':Special_Feature}\n",
        "record"
      ],
      "execution_count": 56,
      "outputs": [
        {
          "output_type": "execute_result",
          "data": {
            "text/plain": [
              "{'EID1001': {'Category': 'Speaker',\n",
              "  'Name': 'Zebronics Powerplus',\n",
              "  'Price': 599,\n",
              "  'Quantity': 40,\n",
              "  'Special Feature': 'High Sound'},\n",
              " 'EID1002': {'Category': 'Speaker',\n",
              "  'Name': 'Boat stone 190f',\n",
              "  'Price': 999,\n",
              "  'Quantity': 50,\n",
              "  'Special Feature': 'High Bass'},\n",
              " 'EID1003': {'Category': 'Speaker',\n",
              "  'Name': 'Mivi Play 5w',\n",
              "  'Price': 499,\n",
              "  'Quantity': 35,\n",
              "  'Special Feature': 'High Bass'},\n",
              " 'EID1004': {'Category': 'Speaker',\n",
              "  'Name': 'One Plus Bullets',\n",
              "  'Price': 1599,\n",
              "  'Quantity': 30,\n",
              "  'Special Feature': 'High Bass'},\n",
              " 'EID1005': {'Category': 'Speaker',\n",
              "  'Name': 'Boat Rockerz',\n",
              "  'Price': 899,\n",
              "  'Quantity': 42,\n",
              "  'Special Feature': 'High Sound'},\n",
              " 'EID1006': {'Category': 'Trimmer',\n",
              "  'Name': 'Redmi Trimmer',\n",
              "  'Price': 1499,\n",
              "  'Quantity': 80,\n",
              "  'Special Feature': 'Water Resistant'},\n",
              " 'EID1007': {'Category': 'Trimmer',\n",
              "  'Name': 'Realme Trimmer',\n",
              "  'Price': 1599,\n",
              "  'Quantity': 50,\n",
              "  'Special Feature': 'Long Battery Life'},\n",
              " 'EID1008': {'Category': 'Phone',\n",
              "  'Name': 'Realme 5',\n",
              "  'Price': 12999,\n",
              "  'Quantity': 60,\n",
              "  'Special Feature': '48Mp cam'},\n",
              " 'EID1009': {'Category': 'Phone',\n",
              "  'Name': 'Realme Narzo 10',\n",
              "  'Price': 11999,\n",
              "  'Quantity': 80,\n",
              "  'Special Feature': '64Mp cam'},\n",
              " 'EID1010': {'Category': 'Phone',\n",
              "  'Name': 'Redmi 9i',\n",
              "  'Price': 9299,\n",
              "  'Quantity': 75,\n",
              "  'Special Feature': 'Low Cost'},\n",
              " 'EID1011': {'Category': 'Phone',\n",
              "  'Name': 'Redmi Note 9',\n",
              "  'Price': 10999,\n",
              "  'Quantity': 50,\n",
              "  'Special Feature': 'Long Battery Life'},\n",
              " 'EID1012': {'Category': 'Phone',\n",
              "  'Name': 'Redmi Note 10',\n",
              "  'Price': 11999,\n",
              "  'Quantity': 45,\n",
              "  'Special Feature': '64Mp Selfie Cam'},\n",
              " 'EID1013': {'Category': 'Phone',\n",
              "  'Name': 'One Plus XT',\n",
              "  'Price': 25999,\n",
              "  'Quantity': 25,\n",
              "  'Special Feature': '108Mp Quad cam'},\n",
              " 'EID1014': {'Category': 'Phone',\n",
              "  'Name': 'IPhone XR',\n",
              "  'Price': 35000,\n",
              "  'Quantity': 30,\n",
              "  'Special Feature': 'Camera and Processor'},\n",
              " 'EID1015': {'Category': 'Phone',\n",
              "  'Name': 'Realme XT',\n",
              "  'Price': 20000,\n",
              "  'Quantity': 55,\n",
              "  'Special Feature': 'Long Battery Life'},\n",
              " 'EID1016': {'Category': 'Powerbank',\n",
              "  'Name': 'Mi Powerbank',\n",
              "  'Price': 799,\n",
              "  'Quantity': 80,\n",
              "  'Special Feature': 'Fast Charging'},\n",
              " 'EID1017': {'Category': 'Powerbank',\n",
              "  'Name': 'Realme Powerbank',\n",
              "  'Price': 899,\n",
              "  'Quantity': 60,\n",
              "  'Special Feature': 'Fast Charging'},\n",
              " 'EID1018': {'Category': 'Cable',\n",
              "  'Name': 'Mi USB Cable',\n",
              "  'Price': 199,\n",
              "  'Quantity': 100,\n",
              "  'Special Feature': 'Fast Data Transfer'},\n",
              " 'EID1019': {'Category': 'Cable',\n",
              "  'Name': 'Realme USB Cable',\n",
              "  'Price': 199,\n",
              "  'Quantity': 100,\n",
              "  'Special Feature': 'upto 3A charge'},\n",
              " 'EID1020': {'Category': 'Phone',\n",
              "  'Name': 'Mi 11X',\n",
              "  'Price': 40000,\n",
              "  'Quantity': 40,\n",
              "  'Special Feature': 'Qualcomm Snapdragon 920G'},\n",
              " 'EID1021': {'Category': 'Phone',\n",
              "  'Name': 'Mi 10T',\n",
              "  'Price': 29999,\n",
              "  'Quantity': 30,\n",
              "  'Special Feature': 'Qualcomm Snapdragon 720G'},\n",
              " 'EID1022': {'Category': 'Phone',\n",
              "  'Name': 'Redmi Note 10 Pro Max',\n",
              "  'Price': 18999,\n",
              "  'Quantity': 35,\n",
              "  'Special Feature': 'Snapdragon 88f'},\n",
              " 'EID1023': {'Category': 'Phone',\n",
              "  'Name': 'Redmi 9 Prime',\n",
              "  'Price': 11999,\n",
              "  'Quantity': 35,\n",
              "  'Special Feature': '108Mp Quad Cam'},\n",
              " 'EID1024': {'Category': 'TV',\n",
              "  'Name': 'Redmi Smart X',\n",
              "  'Price': 20999,\n",
              "  'Quantity': 20,\n",
              "  'Special Feature': 'Sound Quality'},\n",
              " 'EID1025': {'Category': 'TV',\n",
              "  'Name': 'Mi Tv 5X',\n",
              "  'Price': 50000,\n",
              "  'Quantity': 10,\n",
              "  'Special Feature': 'Big Screen'},\n",
              " 'EID1026': {'Category': 'Laptop',\n",
              "  'Name': 'Mi Notebook',\n",
              "  'Price': 45000,\n",
              "  'Quantity': 40,\n",
              "  'Special Feature': 'Gaming PC'},\n",
              " 'EID1027': {'Category': 'Laptop',\n",
              "  'Name': 'Hp Notebook',\n",
              "  'Price': 52499,\n",
              "  'Quantity': 20,\n",
              "  'Special Feature': 'Graphics Quality'},\n",
              " 'EID1028': {'Category': 'Earbuds',\n",
              "  'Name': 'Redmi Earbuds',\n",
              "  'Price': 1899,\n",
              "  'Quantity': 80,\n",
              "  'Special Feature': 'IPX4 Rated'},\n",
              " 'EID1029': {'Category': 'Earbuds',\n",
              "  'Name': 'Realme Earbuds',\n",
              "  'Price': 1999,\n",
              "  'Quantity': 85,\n",
              "  'Special Feature': 'IPX4 Rated'},\n",
              " 'EID1030': {'Category': 'Earbuds',\n",
              "  'Name': 'Boat Earbuds',\n",
              "  'Price': 1399,\n",
              "  'Quantity': 70,\n",
              "  'Special Feature': 'IPX4 Rated'},\n",
              " 'EID1032': {'Category': 'phone',\n",
              "  'Name': 'Moto 6G',\n",
              "  'Price': 12999,\n",
              "  'Quantity': 15,\n",
              "  'Special Feature': ' Large Storage'},\n",
              " 'EID1033': {'Category': 'Laptop',\n",
              "  'Name': 'Dell Notebook',\n",
              "  'Price': 59999,\n",
              "  'Quantity': 10,\n",
              "  'Special Feature': 'Big Screen'}}"
            ]
          },
          "metadata": {},
          "execution_count": 56
        }
      ]
    },
    {
      "cell_type": "markdown",
      "metadata": {
        "id": "JtxzLBGSK0oD"
      },
      "source": [
        "## Add Quantity into Previous Item"
      ]
    },
    {
      "cell_type": "code",
      "metadata": {
        "colab": {
          "base_uri": "https://localhost:8080/"
        },
        "id": "uZp9mRVNKaR7",
        "outputId": "7d7001ef-12f9-422c-aac0-e7c6b24c5ec9"
      },
      "source": [
        "prod_id=input(\"Enter Product ID : \")\n",
        "quantity=int(input(\"Enter Quantity : \"))"
      ],
      "execution_count": 57,
      "outputs": [
        {
          "name": "stdout",
          "output_type": "stream",
          "text": [
            "Enter Product ID : EID1025\n",
            "Enter Quantity : 10\n"
          ]
        }
      ]
    },
    {
      "cell_type": "code",
      "metadata": {
        "id": "sCNuSc2rLHuA"
      },
      "source": [
        "if prod_id in record:\n",
        "  record[prod_id][\"Quantity\"]=record[prod_id][\"Quantity\"]+quantity\n",
        "else:\n",
        "  print(\"Given Item is not present\")"
      ],
      "execution_count": 59,
      "outputs": []
    },
    {
      "cell_type": "code",
      "metadata": {
        "colab": {
          "base_uri": "https://localhost:8080/"
        },
        "id": "_uJt0lq7XP-K",
        "outputId": "e29860f1-6bfd-4ab8-c4bc-e1cc93e930f8"
      },
      "source": [
        "record[prod_id][\"Quantity\"]"
      ],
      "execution_count": 60,
      "outputs": [
        {
          "output_type": "execute_result",
          "data": {
            "text/plain": [
              "30"
            ]
          },
          "metadata": {},
          "execution_count": 60
        }
      ]
    },
    {
      "cell_type": "code",
      "metadata": {
        "colab": {
          "base_uri": "https://localhost:8080/"
        },
        "id": "F59CmyMmMDV7",
        "outputId": "737a787c-8213-443d-c29c-a102da757804"
      },
      "source": [
        "record"
      ],
      "execution_count": 61,
      "outputs": [
        {
          "output_type": "execute_result",
          "data": {
            "text/plain": [
              "{'EID1001': {'Category': 'Speaker',\n",
              "  'Name': 'Zebronics Powerplus',\n",
              "  'Price': 599,\n",
              "  'Quantity': 40,\n",
              "  'Special Feature': 'High Sound'},\n",
              " 'EID1002': {'Category': 'Speaker',\n",
              "  'Name': 'Boat stone 190f',\n",
              "  'Price': 999,\n",
              "  'Quantity': 50,\n",
              "  'Special Feature': 'High Bass'},\n",
              " 'EID1003': {'Category': 'Speaker',\n",
              "  'Name': 'Mivi Play 5w',\n",
              "  'Price': 499,\n",
              "  'Quantity': 35,\n",
              "  'Special Feature': 'High Bass'},\n",
              " 'EID1004': {'Category': 'Speaker',\n",
              "  'Name': 'One Plus Bullets',\n",
              "  'Price': 1599,\n",
              "  'Quantity': 30,\n",
              "  'Special Feature': 'High Bass'},\n",
              " 'EID1005': {'Category': 'Speaker',\n",
              "  'Name': 'Boat Rockerz',\n",
              "  'Price': 899,\n",
              "  'Quantity': 42,\n",
              "  'Special Feature': 'High Sound'},\n",
              " 'EID1006': {'Category': 'Trimmer',\n",
              "  'Name': 'Redmi Trimmer',\n",
              "  'Price': 1499,\n",
              "  'Quantity': 80,\n",
              "  'Special Feature': 'Water Resistant'},\n",
              " 'EID1007': {'Category': 'Trimmer',\n",
              "  'Name': 'Realme Trimmer',\n",
              "  'Price': 1599,\n",
              "  'Quantity': 50,\n",
              "  'Special Feature': 'Long Battery Life'},\n",
              " 'EID1008': {'Category': 'Phone',\n",
              "  'Name': 'Realme 5',\n",
              "  'Price': 12999,\n",
              "  'Quantity': 60,\n",
              "  'Special Feature': '48Mp cam'},\n",
              " 'EID1009': {'Category': 'Phone',\n",
              "  'Name': 'Realme Narzo 10',\n",
              "  'Price': 11999,\n",
              "  'Quantity': 80,\n",
              "  'Special Feature': '64Mp cam'},\n",
              " 'EID1010': {'Category': 'Phone',\n",
              "  'Name': 'Redmi 9i',\n",
              "  'Price': 9299,\n",
              "  'Quantity': 75,\n",
              "  'Special Feature': 'Low Cost'},\n",
              " 'EID1011': {'Category': 'Phone',\n",
              "  'Name': 'Redmi Note 9',\n",
              "  'Price': 10999,\n",
              "  'Quantity': 50,\n",
              "  'Special Feature': 'Long Battery Life'},\n",
              " 'EID1012': {'Category': 'Phone',\n",
              "  'Name': 'Redmi Note 10',\n",
              "  'Price': 11999,\n",
              "  'Quantity': 45,\n",
              "  'Special Feature': '64Mp Selfie Cam'},\n",
              " 'EID1013': {'Category': 'Phone',\n",
              "  'Name': 'One Plus XT',\n",
              "  'Price': 25999,\n",
              "  'Quantity': 25,\n",
              "  'Special Feature': '108Mp Quad cam'},\n",
              " 'EID1014': {'Category': 'Phone',\n",
              "  'Name': 'IPhone XR',\n",
              "  'Price': 35000,\n",
              "  'Quantity': 30,\n",
              "  'Special Feature': 'Camera and Processor'},\n",
              " 'EID1015': {'Category': 'Phone',\n",
              "  'Name': 'Realme XT',\n",
              "  'Price': 20000,\n",
              "  'Quantity': 55,\n",
              "  'Special Feature': 'Long Battery Life'},\n",
              " 'EID1016': {'Category': 'Powerbank',\n",
              "  'Name': 'Mi Powerbank',\n",
              "  'Price': 799,\n",
              "  'Quantity': 80,\n",
              "  'Special Feature': 'Fast Charging'},\n",
              " 'EID1017': {'Category': 'Powerbank',\n",
              "  'Name': 'Realme Powerbank',\n",
              "  'Price': 899,\n",
              "  'Quantity': 60,\n",
              "  'Special Feature': 'Fast Charging'},\n",
              " 'EID1018': {'Category': 'Cable',\n",
              "  'Name': 'Mi USB Cable',\n",
              "  'Price': 199,\n",
              "  'Quantity': 100,\n",
              "  'Special Feature': 'Fast Data Transfer'},\n",
              " 'EID1019': {'Category': 'Cable',\n",
              "  'Name': 'Realme USB Cable',\n",
              "  'Price': 199,\n",
              "  'Quantity': 100,\n",
              "  'Special Feature': 'upto 3A charge'},\n",
              " 'EID1020': {'Category': 'Phone',\n",
              "  'Name': 'Mi 11X',\n",
              "  'Price': 40000,\n",
              "  'Quantity': 40,\n",
              "  'Special Feature': 'Qualcomm Snapdragon 920G'},\n",
              " 'EID1021': {'Category': 'Phone',\n",
              "  'Name': 'Mi 10T',\n",
              "  'Price': 29999,\n",
              "  'Quantity': 30,\n",
              "  'Special Feature': 'Qualcomm Snapdragon 720G'},\n",
              " 'EID1022': {'Category': 'Phone',\n",
              "  'Name': 'Redmi Note 10 Pro Max',\n",
              "  'Price': 18999,\n",
              "  'Quantity': 35,\n",
              "  'Special Feature': 'Snapdragon 88f'},\n",
              " 'EID1023': {'Category': 'Phone',\n",
              "  'Name': 'Redmi 9 Prime',\n",
              "  'Price': 11999,\n",
              "  'Quantity': 35,\n",
              "  'Special Feature': '108Mp Quad Cam'},\n",
              " 'EID1024': {'Category': 'TV',\n",
              "  'Name': 'Redmi Smart X',\n",
              "  'Price': 20999,\n",
              "  'Quantity': 20,\n",
              "  'Special Feature': 'Sound Quality'},\n",
              " 'EID1025': {'Category': 'TV',\n",
              "  'Name': 'Mi Tv 5X',\n",
              "  'Price': 50000,\n",
              "  'Quantity': 30,\n",
              "  'Special Feature': 'Big Screen'},\n",
              " 'EID1026': {'Category': 'Laptop',\n",
              "  'Name': 'Mi Notebook',\n",
              "  'Price': 45000,\n",
              "  'Quantity': 40,\n",
              "  'Special Feature': 'Gaming PC'},\n",
              " 'EID1027': {'Category': 'Laptop',\n",
              "  'Name': 'Hp Notebook',\n",
              "  'Price': 52499,\n",
              "  'Quantity': 20,\n",
              "  'Special Feature': 'Graphics Quality'},\n",
              " 'EID1028': {'Category': 'Earbuds',\n",
              "  'Name': 'Redmi Earbuds',\n",
              "  'Price': 1899,\n",
              "  'Quantity': 80,\n",
              "  'Special Feature': 'IPX4 Rated'},\n",
              " 'EID1029': {'Category': 'Earbuds',\n",
              "  'Name': 'Realme Earbuds',\n",
              "  'Price': 1999,\n",
              "  'Quantity': 85,\n",
              "  'Special Feature': 'IPX4 Rated'},\n",
              " 'EID1030': {'Category': 'Earbuds',\n",
              "  'Name': 'Boat Earbuds',\n",
              "  'Price': 1399,\n",
              "  'Quantity': 70,\n",
              "  'Special Feature': 'IPX4 Rated'},\n",
              " 'EID1032': {'Category': 'phone',\n",
              "  'Name': 'Moto 6G',\n",
              "  'Price': 12999,\n",
              "  'Quantity': 15,\n",
              "  'Special Feature': ' Large Storage'},\n",
              " 'EID1033': {'Category': 'Laptop',\n",
              "  'Name': 'Dell Notebook',\n",
              "  'Price': 59999,\n",
              "  'Quantity': 10,\n",
              "  'Special Feature': 'Big Screen'}}"
            ]
          },
          "metadata": {},
          "execution_count": 61
        }
      ]
    },
    {
      "cell_type": "code",
      "metadata": {
        "colab": {
          "base_uri": "https://localhost:8080/"
        },
        "id": "NtS0wHqPObnI",
        "outputId": "656b529c-3092-4658-ba0b-d31f50920879"
      },
      "source": [
        "prod_id=input(\"Enter Product ID : \")\n",
        "quantity=int(input(\"Enter Quantity : \"))"
      ],
      "execution_count": 62,
      "outputs": [
        {
          "name": "stdout",
          "output_type": "stream",
          "text": [
            "Enter Product ID : EID1046\n",
            "Enter Quantity : 19\n"
          ]
        }
      ]
    },
    {
      "cell_type": "code",
      "metadata": {
        "colab": {
          "base_uri": "https://localhost:8080/"
        },
        "id": "aeTQk_8BOigP",
        "outputId": "574be075-95e0-414e-8ce6-4f5b987f7004"
      },
      "source": [
        "if prod_id in record:\n",
        "  record[prod_id][\"Quantity\"]=record[prod_id][\"Quantity\"]+quantity\n",
        "else:\n",
        "  print(\"Given Item is not present\")"
      ],
      "execution_count": 63,
      "outputs": [
        {
          "output_type": "stream",
          "name": "stdout",
          "text": [
            "Given Item is not present\n"
          ]
        }
      ]
    },
    {
      "cell_type": "markdown",
      "metadata": {
        "id": "DsTxVch6O29Q"
      },
      "source": [
        "## Purchase"
      ]
    },
    {
      "cell_type": "code",
      "metadata": {
        "colab": {
          "base_uri": "https://localhost:8080/"
        },
        "id": "WF1U0MOxPKv6",
        "outputId": "1fcced9f-f6ca-4167-e1fc-a1365a2bb79c"
      },
      "source": [
        "user=input(\"Enter the Product ID : \")\n",
        "Quantity=int(input(\"Enter the Quantity \"))"
      ],
      "execution_count": 64,
      "outputs": [
        {
          "name": "stdout",
          "output_type": "stream",
          "text": [
            "Enter the Product ID : EID1003\n",
            "Enter the Quantity 40\n"
          ]
        }
      ]
    },
    {
      "cell_type": "code",
      "metadata": {
        "colab": {
          "base_uri": "https://localhost:8080/"
        },
        "id": "eAnefK32PyL5",
        "outputId": "5d7690c0-2983-4c3c-c303-8a3c06b98c77"
      },
      "source": [
        "record[us_prod_id]['Quantity']"
      ],
      "execution_count": 66,
      "outputs": [
        {
          "output_type": "execute_result",
          "data": {
            "text/plain": [
              "35"
            ]
          },
          "metadata": {},
          "execution_count": 66
        }
      ]
    },
    {
      "cell_type": "code",
      "metadata": {
        "colab": {
          "base_uri": "https://localhost:8080/"
        },
        "id": "Nzh_MRKlP-J7",
        "outputId": "93b48d16-4098-4d55-fb86-e0d95ea1404a"
      },
      "source": [
        "if us_Quantity<=record[us_prod_id]['Quantity']:\n",
        "  record[us_prod_id]['Quantity']=record[us_prod_id]['Quantity']-us_Quantity\n",
        "else:\n",
        "  print('Sorry,We give Only',record[us_prod_id]['Quantity'],\"product\")"
      ],
      "execution_count": 67,
      "outputs": [
        {
          "output_type": "stream",
          "name": "stdout",
          "text": [
            "Sorry,We give Only 35 product\n"
          ]
        }
      ]
    },
    {
      "cell_type": "code",
      "metadata": {
        "colab": {
          "base_uri": "https://localhost:8080/"
        },
        "id": "QwNvDsqjRA_N",
        "outputId": "1e11ab82-c63e-40cd-bf4d-201ff94466fe"
      },
      "source": [
        "user1=input(\"Enter Product ID : \")\n",
        "us_Quantity1=int(input(\"Enter Quantity : \"))"
      ],
      "execution_count": 68,
      "outputs": [
        {
          "name": "stdout",
          "output_type": "stream",
          "text": [
            "Enter Product ID : EID1010\n",
            "Enter Quantity : 2\n"
          ]
        }
      ]
    },
    {
      "cell_type": "code",
      "metadata": {
        "colab": {
          "base_uri": "https://localhost:8080/",
          "height": 35
        },
        "id": "tn01PeO1RS5g",
        "outputId": "c5cd5fa0-6a44-48f8-e596-5440cf3ed365"
      },
      "source": [
        "record[user1][\"Name\"]"
      ],
      "execution_count": 69,
      "outputs": [
        {
          "output_type": "execute_result",
          "data": {
            "application/vnd.google.colaboratory.intrinsic+json": {
              "type": "string"
            },
            "text/plain": [
              "'Redmi 9i'"
            ]
          },
          "metadata": {},
          "execution_count": 69
        }
      ]
    },
    {
      "cell_type": "code",
      "metadata": {
        "colab": {
          "base_uri": "https://localhost:8080/"
        },
        "id": "wxbrjZFKRl1Y",
        "outputId": "9888ed2c-2bb0-40a3-d164-110e915d426b"
      },
      "source": [
        "total=record[user1]['Price']*us_Quantity1\n",
        "total"
      ],
      "execution_count": 70,
      "outputs": [
        {
          "output_type": "execute_result",
          "data": {
            "text/plain": [
              "18598"
            ]
          },
          "metadata": {},
          "execution_count": 70
        }
      ]
    },
    {
      "cell_type": "code",
      "metadata": {
        "id": "4ZV58mutVZm6"
      },
      "source": [
        "record[user1]['Quantity']=record[user1]['Quantity']-us_Quantity1\n"
      ],
      "execution_count": 71,
      "outputs": []
    },
    {
      "cell_type": "code",
      "metadata": {
        "colab": {
          "base_uri": "https://localhost:8080/"
        },
        "id": "dTChpaLFU37h",
        "outputId": "f321cc20-57b5-452f-81c7-86d63bf2f186"
      },
      "source": [
        "record[user1]['Quantity']"
      ],
      "execution_count": 72,
      "outputs": [
        {
          "output_type": "execute_result",
          "data": {
            "text/plain": [
              "73"
            ]
          },
          "metadata": {},
          "execution_count": 72
        }
      ]
    },
    {
      "cell_type": "markdown",
      "metadata": {
        "id": "lfdLK5PCTZkG"
      },
      "source": [
        "#First Item Purchase"
      ]
    },
    {
      "cell_type": "code",
      "metadata": {
        "colab": {
          "base_uri": "https://localhost:8080/"
        },
        "id": "I3dg2re3SAQ5",
        "outputId": "06f22df0-47c2-48f9-f395-616f4f3dc047"
      },
      "source": [
        "print(\"Product :\",record[user1][\"Name\"])\n",
        "print(\"Price :\",record[user1]['Price'])\n",
        "print(\"Quantity :\",us_Quantity1)\n",
        "print(\"Billing Amount :\",total)\n"
      ],
      "execution_count": 73,
      "outputs": [
        {
          "output_type": "stream",
          "name": "stdout",
          "text": [
            "Product : Redmi 9i\n",
            "Price : 9299\n",
            "Quantity : 2\n",
            "Billing Amount : 18598\n"
          ]
        }
      ]
    },
    {
      "cell_type": "code",
      "metadata": {
        "colab": {
          "base_uri": "https://localhost:8080/"
        },
        "id": "P8Itn2ovS9DO",
        "outputId": "e99eb9a0-ae20-46dd-deb9-8c28deae4982"
      },
      "source": [
        "record[user1]['Quantity']"
      ],
      "execution_count": 74,
      "outputs": [
        {
          "output_type": "execute_result",
          "data": {
            "text/plain": [
              "73"
            ]
          },
          "metadata": {},
          "execution_count": 74
        }
      ]
    },
    {
      "cell_type": "code",
      "metadata": {
        "colab": {
          "base_uri": "https://localhost:8080/"
        },
        "id": "KhxnMhHMTlJN",
        "outputId": "05481a56-600f-4418-feae-7453c1dfcbf2"
      },
      "source": [
        "user2=input(\"Enter Product ID : \")\n",
        "us_Quantity2=int(input(\"Enter Quantity : \"))\n",
        "\n",
        "if us_Quantity2<=record[user2]['Quantity']:\n",
        "  record[user2]['Quantity']=record[user2]['Quantity']-us_Quantity2\n",
        "else:\n",
        "  print('Sorry,We give Only',record[us_prod_id]['Quantity'],\"product\")\n",
        "\n",
        "print(\"\\n\\nProduct :\",record[user2][\"Name\"])\n",
        "print(\"Price :\",record[user2]['Price'])\n",
        "print(\"Quantity :\",us_Quantity2)\n",
        "\n",
        "total=record[user2]['Price']*us_Quantity2\n",
        "print(\"Billing Amount :\",total)"
      ],
      "execution_count": 75,
      "outputs": [
        {
          "output_type": "stream",
          "name": "stdout",
          "text": [
            "Enter Product ID : EID1025\n",
            "Enter Quantity : 10\n",
            "\n",
            "\n",
            "Product : Mi Tv 5X\n",
            "Price : 50000\n",
            "Quantity : 10\n",
            "Billing Amount : 500000\n"
          ]
        }
      ]
    },
    {
      "cell_type": "code",
      "metadata": {
        "colab": {
          "base_uri": "https://localhost:8080/"
        },
        "id": "uTgPEpCVV0Bs",
        "outputId": "435de827-1e72-473c-a3c8-c83647aec1d2"
      },
      "source": [
        "record[user2]['Quantity']"
      ],
      "execution_count": 76,
      "outputs": [
        {
          "output_type": "execute_result",
          "data": {
            "text/plain": [
              "20"
            ]
          },
          "metadata": {},
          "execution_count": 76
        }
      ]
    },
    {
      "cell_type": "code",
      "metadata": {
        "colab": {
          "base_uri": "https://localhost:8080/"
        },
        "id": "LVN1yun2akXI",
        "outputId": "9239eaec-b47d-4522-d7dd-b81aa6cfc9bf"
      },
      "source": [
        "user3=input(\"Enter Product ID : \")\n",
        "us_Quantity3=int(input(\"Enter Quantity : \"))\n",
        "\n",
        "if us_Quantity3<=record[user3]['Quantity']:\n",
        "  record[user3]['Quantity']=record[user3]['Quantity']-us_Quantity3\n",
        "else:\n",
        "  print('Sorry,We give Only',record[user3]['Quantity'],\"product\")\n",
        "\n",
        "print(\"\\n\\nProduct :\",record[user3][\"Name\"])\n",
        "print(\"Price :\",record[user3]['Price'])\n",
        "print(\"Quantity :\",us_Quantity3)\n",
        "\n",
        "total=record[user3]['Price']*us_Quantity3\n",
        "print(\"Billing Amount :\",total)"
      ],
      "execution_count": 77,
      "outputs": [
        {
          "output_type": "stream",
          "name": "stdout",
          "text": [
            "Enter Product ID : EID1033\n",
            "Enter Quantity : 5\n",
            "\n",
            "\n",
            "Product : Dell Notebook\n",
            "Price : 59999\n",
            "Quantity : 5\n",
            "Billing Amount : 299995\n"
          ]
        }
      ]
    },
    {
      "cell_type": "code",
      "metadata": {
        "colab": {
          "base_uri": "https://localhost:8080/"
        },
        "id": "nKbE80qraxAi",
        "outputId": "49478de8-a08b-40c9-caac-c83468e49c15"
      },
      "source": [
        "record[user3]['Quantity']"
      ],
      "execution_count": 79,
      "outputs": [
        {
          "output_type": "execute_result",
          "data": {
            "text/plain": [
              "5"
            ]
          },
          "metadata": {},
          "execution_count": 79
        }
      ]
    },
    {
      "cell_type": "code",
      "metadata": {
        "colab": {
          "base_uri": "https://localhost:8080/"
        },
        "id": "3JNm7Gida3JJ",
        "outputId": "4ff89823-fc9e-4ad9-dec8-118b174d6c36"
      },
      "source": [
        "user4=input(\"Enter Product ID : \")\n",
        "us_Quantity4=int(input(\"Enter Quantity : \"))\n",
        "\n",
        "if us_Quantity4<=record[user4]['Quantity']:\n",
        "  record[user4]['Quantity']=record[user4]['Quantity']-us_Quantity4\n",
        "else:\n",
        "  print('Sorry,We give Only',record[user4]['Quantity'],\"product\")\n",
        "\n",
        "print(\"\\n\\nProduct :\",record[user4][\"Name\"])\n",
        "print(\"Price :\",record[user4]['Price'])\n",
        "print(\"Quantity :\",us_Quantity4)\n",
        "\n",
        "total=record[user4]['Price']*us_Quantity4\n",
        "print(\"Billing Amount :\",total)"
      ],
      "execution_count": 80,
      "outputs": [
        {
          "output_type": "stream",
          "name": "stdout",
          "text": [
            "Enter Product ID : EID1011\n",
            "Enter Quantity : 5\n",
            "\n",
            "\n",
            "Product : Redmi Note 9\n",
            "Price : 10999\n",
            "Quantity : 5\n",
            "Billing Amount : 54995\n"
          ]
        }
      ]
    },
    {
      "cell_type": "code",
      "metadata": {
        "colab": {
          "base_uri": "https://localhost:8080/"
        },
        "id": "_QZqFuYobPeB",
        "outputId": "0f5da98f-fac6-43a0-d70a-c6bcef7473f5"
      },
      "source": [
        "record[user4]['Quantity']"
      ],
      "execution_count": 81,
      "outputs": [
        {
          "output_type": "execute_result",
          "data": {
            "text/plain": [
              "45"
            ]
          },
          "metadata": {},
          "execution_count": 81
        }
      ]
    },
    {
      "cell_type": "code",
      "metadata": {
        "colab": {
          "base_uri": "https://localhost:8080/"
        },
        "id": "DfU0T8K3bPj0",
        "outputId": "546de88c-63e7-409e-a4e9-b9265172cc15"
      },
      "source": [
        "user5=input(\"Enter Product ID : \")\n",
        "us_Quantity5=int(input(\"Enter Quantity : \"))\n",
        "\n",
        "if us_Quantity5<=record[user5]['Quantity']:\n",
        "  record[user5]['Quantity']=record[user5]['Quantity']-us_Quantity5\n",
        "else:\n",
        "  print('Sorry,We give Only',record[user5]['Quantity'],\"product\")\n",
        "\n",
        "print(\"\\n\\nProduct :\",record[user5][\"Name\"])\n",
        "print(\"Price :\",record[user5]['Price'])\n",
        "print(\"Quantity :\",us_Quantity5)\n",
        "\n",
        "total=record[user5]['Price']*us_Quantity5\n",
        "print(\"Billing Amount :\",total)"
      ],
      "execution_count": 82,
      "outputs": [
        {
          "output_type": "stream",
          "name": "stdout",
          "text": [
            "Enter Product ID : EID1023\n",
            "Enter Quantity : 3\n",
            "\n",
            "\n",
            "Product : Redmi 9 Prime\n",
            "Price : 11999\n",
            "Quantity : 3\n",
            "Billing Amount : 35997\n"
          ]
        }
      ]
    },
    {
      "cell_type": "code",
      "metadata": {
        "colab": {
          "base_uri": "https://localhost:8080/"
        },
        "id": "oU5jdlqxbXAs",
        "outputId": "7a860b38-2bb9-4137-fea3-cab6a09e7eab"
      },
      "source": [
        "record[user5]['Quantity']"
      ],
      "execution_count": 83,
      "outputs": [
        {
          "output_type": "execute_result",
          "data": {
            "text/plain": [
              "32"
            ]
          },
          "metadata": {},
          "execution_count": 83
        }
      ]
    },
    {
      "cell_type": "code",
      "metadata": {
        "colab": {
          "base_uri": "https://localhost:8080/"
        },
        "id": "t9qre8YrbUJC",
        "outputId": "7059854f-ee3a-4d0b-a174-93747241851c"
      },
      "source": [
        "user6=input(\"Enter Product ID : \")\n",
        "us_Quantity6=int(input(\"Enter Quantity : \"))\n",
        "\n",
        "if us_Quantity6<=record[user6]['Quantity']:\n",
        "  record[user6]['Quantity']=record[user6]['Quantity']-us_Quantity6\n",
        "else:\n",
        "  print('Sorry,We give Only',record[user6]['Quantity'],\"product\")\n",
        "\n",
        "print(\"\\n\\nProduct :\",record[user6][\"Name\"])\n",
        "print(\"Price :\",record[user6]['Price'])\n",
        "print(\"Quantity :\",us_Quantity6)\n",
        "\n",
        "total=record[user6]['Price']*us_Quantity6\n",
        "print(\"Billing Amount :\",total)"
      ],
      "execution_count": 87,
      "outputs": [
        {
          "output_type": "stream",
          "name": "stdout",
          "text": [
            "Enter Product ID : EID1008\n",
            "Enter Quantity : 1\n",
            "\n",
            "\n",
            "Product : Realme 5\n",
            "Price : 12999\n",
            "Quantity : 1\n",
            "Billing Amount : 12999\n"
          ]
        }
      ]
    },
    {
      "cell_type": "code",
      "metadata": {
        "colab": {
          "base_uri": "https://localhost:8080/"
        },
        "id": "HZHgiV-pbnog",
        "outputId": "a67875d8-bf6b-48df-80b0-2db51242d387"
      },
      "source": [
        "record[user6]['Quantity']"
      ],
      "execution_count": 88,
      "outputs": [
        {
          "output_type": "execute_result",
          "data": {
            "text/plain": [
              "58"
            ]
          },
          "metadata": {},
          "execution_count": 88
        }
      ]
    },
    {
      "cell_type": "code",
      "metadata": {
        "colab": {
          "base_uri": "https://localhost:8080/"
        },
        "id": "CwGUSaSvbrAt",
        "outputId": "08a8c134-188a-48d6-d00f-981061b8c656"
      },
      "source": [
        "user7=input(\"Enter Product ID : \")\n",
        "us_Quantity7=int(input(\"Enter Quantity : \"))\n",
        "\n",
        "if us_Quantity7<=record[user7]['Quantity']:\n",
        "  record[user7]['Quantity']=record[user7]['Quantity']-us_Quantity7\n",
        "else:\n",
        "  print('Sorry,We give Only',record[user7]['Quantity'],\"product\")\n",
        "\n",
        "print(\"\\n\\nProduct :\",record[user7][\"Name\"])\n",
        "print(\"Price :\",record[user7]['Price'])\n",
        "print(\"Quantity :\",us_Quantity7)\n",
        "\n",
        "total=record[user7]['Price']*us_Quantity7\n",
        "print(\"Billing Amount :\",total)"
      ],
      "execution_count": 89,
      "outputs": [
        {
          "output_type": "stream",
          "name": "stdout",
          "text": [
            "Enter Product ID : EID1024\n",
            "Enter Quantity : 3\n",
            "\n",
            "\n",
            "Product : Redmi Smart X\n",
            "Price : 20999\n",
            "Quantity : 3\n",
            "Billing Amount : 62997\n"
          ]
        }
      ]
    },
    {
      "cell_type": "code",
      "metadata": {
        "colab": {
          "base_uri": "https://localhost:8080/"
        },
        "id": "0CnynHDvbxzV",
        "outputId": "c378bdf9-a200-49aa-97e2-3c1114da2d4a"
      },
      "source": [
        "record[user7]['Quantity']"
      ],
      "execution_count": 90,
      "outputs": [
        {
          "output_type": "execute_result",
          "data": {
            "text/plain": [
              "17"
            ]
          },
          "metadata": {},
          "execution_count": 90
        }
      ]
    },
    {
      "cell_type": "code",
      "metadata": {
        "colab": {
          "base_uri": "https://localhost:8080/"
        },
        "id": "3x4wHzVbb5GP",
        "outputId": "9e7e41d2-2983-42f7-c2cc-cb9d868b87a2"
      },
      "source": [
        "user8=input(\"Enter Product ID : \")\n",
        "us_Quantity8=int(input(\"Enter Quantity : \"))\n",
        "\n",
        "if us_Quantity8<=record[user8]['Quantity']:\n",
        "  record[user8]['Quantity']=record[user8]['Quantity']-us_Quantity8\n",
        "else:\n",
        "  print('Sorry,We give Only',record[user8]['Quantity'],\"product\")\n",
        "\n",
        "print(\"\\n\\nProduct :\",record[user8][\"Name\"])\n",
        "print(\"Price :\",record[user8]['Price'])\n",
        "print(\"Quantity :\",us_Quantity8)\n",
        "\n",
        "total=record[user8]['Price']*us_Quantity8\n",
        "print(\"Billing Amount :\",total)"
      ],
      "execution_count": 100,
      "outputs": [
        {
          "output_type": "stream",
          "name": "stdout",
          "text": [
            "Enter Product ID : EID1027\n",
            "Enter Quantity : 15\n",
            "\n",
            "\n",
            "Product : Hp Notebook\n",
            "Price : 52499\n",
            "Quantity : 15\n",
            "Billing Amount : 787485\n"
          ]
        }
      ]
    },
    {
      "cell_type": "code",
      "metadata": {
        "colab": {
          "base_uri": "https://localhost:8080/"
        },
        "id": "lOWqvOQ6QgQQ",
        "outputId": "2a6fc007-d7e0-40e2-9c55-390dce3fcf4f"
      },
      "source": [
        "total=record[user8]['Price']*us_Quantity8\n",
        "print(\"Billing Amount :\",total)"
      ],
      "execution_count": 43,
      "outputs": [
        {
          "output_type": "stream",
          "name": "stdout",
          "text": [
            "Billing Amount : 787485\n"
          ]
        }
      ]
    },
    {
      "cell_type": "code",
      "metadata": {
        "colab": {
          "base_uri": "https://localhost:8080/"
        },
        "id": "177NqjJVb-ln",
        "outputId": "6c924c96-5c1b-48c4-dbc8-68c35571df44"
      },
      "source": [
        "record[user8]['Quantity']"
      ],
      "execution_count": 101,
      "outputs": [
        {
          "output_type": "execute_result",
          "data": {
            "text/plain": [
              "5"
            ]
          },
          "metadata": {},
          "execution_count": 101
        }
      ]
    },
    {
      "cell_type": "code",
      "metadata": {
        "colab": {
          "base_uri": "https://localhost:8080/"
        },
        "id": "GVNwomAlb7xn",
        "outputId": "ab146a2f-8c67-4090-daba-afbc474cbcc7"
      },
      "source": [
        "user9=input(\"Enter Product ID : \")\n",
        "us_Quantity9=int(input(\"Enter Quantity : \"))\n",
        "\n",
        "if us_Quantity9<=record[user9]['Quantity']:\n",
        "  record[user9]['Quantity']=record[user9]['Quantity']-us_Quantity9\n",
        "else:\n",
        "  print('Sorry,We give Only',record[user9]['Quantity'],\"product\")\n",
        "\n",
        "print(\"\\n\\nProduct :\",record[user9][\"Name\"])\n",
        "print(\"Price :\",record[user9]['Price'])\n",
        "print(\"Quantity :\",us_Quantity9)\n",
        "\n",
        "total=record[user9]['Price']*us_Quantity9\n",
        "print(\"Billing Amount :\",total)"
      ],
      "execution_count": 102,
      "outputs": [
        {
          "output_type": "stream",
          "name": "stdout",
          "text": [
            "Enter Product ID : EID1017\n",
            "Enter Quantity : 4\n",
            "\n",
            "\n",
            "Product : Realme Powerbank\n",
            "Price : 899\n",
            "Quantity : 4\n",
            "Billing Amount : 3596\n"
          ]
        }
      ]
    },
    {
      "cell_type": "code",
      "metadata": {
        "colab": {
          "base_uri": "https://localhost:8080/"
        },
        "id": "X0_eUwojcAY2",
        "outputId": "978881d8-6c30-428e-b59e-4caddd5947ba"
      },
      "source": [
        "record[user9]['Quantity']"
      ],
      "execution_count": 103,
      "outputs": [
        {
          "output_type": "execute_result",
          "data": {
            "text/plain": [
              "56"
            ]
          },
          "metadata": {},
          "execution_count": 103
        }
      ]
    },
    {
      "cell_type": "code",
      "metadata": {
        "colab": {
          "base_uri": "https://localhost:8080/"
        },
        "id": "6XsDfcW7b9Hd",
        "outputId": "c25db23d-445a-4840-ec9f-516fd495e396"
      },
      "source": [
        "user10=input(\"Enter Product ID : \")\n",
        "us_Quantity10=int(input(\"Enter Quantity : \"))\n",
        "\n",
        "if us_Quantity10<=record[user10]['Quantity']:\n",
        "  record[user10]['Quantity']=record[user10]['Quantity']-us_Quantity10\n",
        "else:\n",
        "  print('Sorry,We give Only',record[user10]['Quantity'],\"product\")\n",
        "\n",
        "print(\"\\n\\nProduct :\",record[user10][\"Name\"])\n",
        "print(\"Price :\",record[user10]['Price'])\n",
        "print(\"Quantity :\",us_Quantity10)\n",
        "\n",
        "total=record[user10]['Price']*us_Quantity10\n",
        "print(\"Billing Amount :\",total)"
      ],
      "execution_count": 104,
      "outputs": [
        {
          "output_type": "stream",
          "name": "stdout",
          "text": [
            "Enter Product ID : EID1020\n",
            "Enter Quantity : 7\n",
            "\n",
            "\n",
            "Product : Mi 11X\n",
            "Price : 40000\n",
            "Quantity : 7\n",
            "Billing Amount : 280000\n"
          ]
        }
      ]
    },
    {
      "cell_type": "code",
      "metadata": {
        "colab": {
          "base_uri": "https://localhost:8080/"
        },
        "id": "RD7G8VbYcCEO",
        "outputId": "f5d5d4e9-a20a-450f-cfd6-66def0c1a677"
      },
      "source": [
        "record[user10]['Quantity']"
      ],
      "execution_count": 105,
      "outputs": [
        {
          "output_type": "execute_result",
          "data": {
            "text/plain": [
              "33"
            ]
          },
          "metadata": {},
          "execution_count": 105
        }
      ]
    },
    {
      "cell_type": "code",
      "metadata": {
        "colab": {
          "base_uri": "https://localhost:8080/"
        },
        "id": "m9qM1gKect4I",
        "outputId": "e30d8706-d791-42e0-a23d-6e280623ab33"
      },
      "source": [
        "record"
      ],
      "execution_count": 106,
      "outputs": [
        {
          "output_type": "execute_result",
          "data": {
            "text/plain": [
              "{'EID1001': {'Category': 'Speaker',\n",
              "  'Name': 'Zebronics Powerplus',\n",
              "  'Price': 599,\n",
              "  'Quantity': 40,\n",
              "  'Special Feature': 'High Sound'},\n",
              " 'EID1002': {'Category': 'Speaker',\n",
              "  'Name': 'Boat stone 190f',\n",
              "  'Price': 999,\n",
              "  'Quantity': 50,\n",
              "  'Special Feature': 'High Bass'},\n",
              " 'EID1003': {'Category': 'Speaker',\n",
              "  'Name': 'Mivi Play 5w',\n",
              "  'Price': 499,\n",
              "  'Quantity': 35,\n",
              "  'Special Feature': 'High Bass'},\n",
              " 'EID1004': {'Category': 'Speaker',\n",
              "  'Name': 'One Plus Bullets',\n",
              "  'Price': 1599,\n",
              "  'Quantity': 30,\n",
              "  'Special Feature': 'High Bass'},\n",
              " 'EID1005': {'Category': 'Speaker',\n",
              "  'Name': 'Boat Rockerz',\n",
              "  'Price': 899,\n",
              "  'Quantity': 42,\n",
              "  'Special Feature': 'High Sound'},\n",
              " 'EID1006': {'Category': 'Trimmer',\n",
              "  'Name': 'Redmi Trimmer',\n",
              "  'Price': 1499,\n",
              "  'Quantity': 80,\n",
              "  'Special Feature': 'Water Resistant'},\n",
              " 'EID1007': {'Category': 'Trimmer',\n",
              "  'Name': 'Realme Trimmer',\n",
              "  'Price': 1599,\n",
              "  'Quantity': 50,\n",
              "  'Special Feature': 'Long Battery Life'},\n",
              " 'EID1008': {'Category': 'Phone',\n",
              "  'Name': 'Realme 5',\n",
              "  'Price': 12999,\n",
              "  'Quantity': 58,\n",
              "  'Special Feature': '48Mp cam'},\n",
              " 'EID1009': {'Category': 'Phone',\n",
              "  'Name': 'Realme Narzo 10',\n",
              "  'Price': 11999,\n",
              "  'Quantity': 80,\n",
              "  'Special Feature': '64Mp cam'},\n",
              " 'EID1010': {'Category': 'Phone',\n",
              "  'Name': 'Redmi 9i',\n",
              "  'Price': 9299,\n",
              "  'Quantity': 73,\n",
              "  'Special Feature': 'Low Cost'},\n",
              " 'EID1011': {'Category': 'Phone',\n",
              "  'Name': 'Redmi Note 9',\n",
              "  'Price': 10999,\n",
              "  'Quantity': 45,\n",
              "  'Special Feature': 'Long Battery Life'},\n",
              " 'EID1012': {'Category': 'Phone',\n",
              "  'Name': 'Redmi Note 10',\n",
              "  'Price': 11999,\n",
              "  'Quantity': 45,\n",
              "  'Special Feature': '64Mp Selfie Cam'},\n",
              " 'EID1013': {'Category': 'Phone',\n",
              "  'Name': 'One Plus XT',\n",
              "  'Price': 25999,\n",
              "  'Quantity': 25,\n",
              "  'Special Feature': '108Mp Quad cam'},\n",
              " 'EID1014': {'Category': 'Phone',\n",
              "  'Name': 'IPhone XR',\n",
              "  'Price': 35000,\n",
              "  'Quantity': 30,\n",
              "  'Special Feature': 'Camera and Processor'},\n",
              " 'EID1015': {'Category': 'Phone',\n",
              "  'Name': 'Realme XT',\n",
              "  'Price': 20000,\n",
              "  'Quantity': 55,\n",
              "  'Special Feature': 'Long Battery Life'},\n",
              " 'EID1016': {'Category': 'Powerbank',\n",
              "  'Name': 'Mi Powerbank',\n",
              "  'Price': 799,\n",
              "  'Quantity': 80,\n",
              "  'Special Feature': 'Fast Charging'},\n",
              " 'EID1017': {'Category': 'Powerbank',\n",
              "  'Name': 'Realme Powerbank',\n",
              "  'Price': 899,\n",
              "  'Quantity': 56,\n",
              "  'Special Feature': 'Fast Charging'},\n",
              " 'EID1018': {'Category': 'Cable',\n",
              "  'Name': 'Mi USB Cable',\n",
              "  'Price': 199,\n",
              "  'Quantity': 100,\n",
              "  'Special Feature': 'Fast Data Transfer'},\n",
              " 'EID1019': {'Category': 'Cable',\n",
              "  'Name': 'Realme USB Cable',\n",
              "  'Price': 199,\n",
              "  'Quantity': 100,\n",
              "  'Special Feature': 'upto 3A charge'},\n",
              " 'EID1020': {'Category': 'Phone',\n",
              "  'Name': 'Mi 11X',\n",
              "  'Price': 40000,\n",
              "  'Quantity': 33,\n",
              "  'Special Feature': 'Qualcomm Snapdragon 920G'},\n",
              " 'EID1021': {'Category': 'Phone',\n",
              "  'Name': 'Mi 10T',\n",
              "  'Price': 29999,\n",
              "  'Quantity': 30,\n",
              "  'Special Feature': 'Qualcomm Snapdragon 720G'},\n",
              " 'EID1022': {'Category': 'Phone',\n",
              "  'Name': 'Redmi Note 10 Pro Max',\n",
              "  'Price': 18999,\n",
              "  'Quantity': 35,\n",
              "  'Special Feature': 'Snapdragon 88f'},\n",
              " 'EID1023': {'Category': 'Phone',\n",
              "  'Name': 'Redmi 9 Prime',\n",
              "  'Price': 11999,\n",
              "  'Quantity': 32,\n",
              "  'Special Feature': '108Mp Quad Cam'},\n",
              " 'EID1024': {'Category': 'TV',\n",
              "  'Name': 'Redmi Smart X',\n",
              "  'Price': 20999,\n",
              "  'Quantity': 17,\n",
              "  'Special Feature': 'Sound Quality'},\n",
              " 'EID1025': {'Category': 'TV',\n",
              "  'Name': 'Mi Tv 5X',\n",
              "  'Price': 50000,\n",
              "  'Quantity': 20,\n",
              "  'Special Feature': 'Big Screen'},\n",
              " 'EID1026': {'Category': 'Laptop',\n",
              "  'Name': 'Mi Notebook',\n",
              "  'Price': 45000,\n",
              "  'Quantity': 40,\n",
              "  'Special Feature': 'Gaming PC'},\n",
              " 'EID1027': {'Category': 'Laptop',\n",
              "  'Name': 'Hp Notebook',\n",
              "  'Price': 52499,\n",
              "  'Quantity': 5,\n",
              "  'Special Feature': 'Graphics Quality'},\n",
              " 'EID1028': {'Category': 'Earbuds',\n",
              "  'Name': 'Redmi Earbuds',\n",
              "  'Price': 1899,\n",
              "  'Quantity': 80,\n",
              "  'Special Feature': 'IPX4 Rated'},\n",
              " 'EID1029': {'Category': 'Earbuds',\n",
              "  'Name': 'Realme Earbuds',\n",
              "  'Price': 1999,\n",
              "  'Quantity': 85,\n",
              "  'Special Feature': 'IPX4 Rated'},\n",
              " 'EID1030': {'Category': 'Earbuds',\n",
              "  'Name': 'Boat Earbuds',\n",
              "  'Price': 1399,\n",
              "  'Quantity': 70,\n",
              "  'Special Feature': 'IPX4 Rated'},\n",
              " 'EID1032': {'Category': 'phone',\n",
              "  'Name': 'Moto 6G',\n",
              "  'Price': 12999,\n",
              "  'Quantity': 15,\n",
              "  'Special Feature': ' Large Storage'},\n",
              " 'EID1033': {'Category': 'Laptop',\n",
              "  'Name': 'Dell Notebook',\n",
              "  'Price': 59999,\n",
              "  'Quantity': 5,\n",
              "  'Special Feature': 'Big Screen'}}"
            ]
          },
          "metadata": {},
          "execution_count": 106
        }
      ]
    },
    {
      "cell_type": "code",
      "metadata": {
        "id": "jY6EQ2-Qcz8T"
      },
      "source": [
        "import json\n",
        "js=json.dumps(record)"
      ],
      "execution_count": 107,
      "outputs": []
    },
    {
      "cell_type": "code",
      "metadata": {
        "id": "fbmLgTvlchTQ"
      },
      "source": [
        "fd=open(\"purchase.json\",\"w\")\n",
        "fd.write(js)\n",
        "fd.close()"
      ],
      "execution_count": 108,
      "outputs": []
    },
    {
      "cell_type": "markdown",
      "metadata": {
        "id": "NwF2J888eXgo"
      },
      "source": [
        "## Sales(Transaction)"
      ]
    },
    {
      "cell_type": "code",
      "metadata": {
        "colab": {
          "base_uri": "https://localhost:8080/",
          "height": 137
        },
        "id": "rkuV70pcejm1",
        "outputId": "b7bb12cd-98b6-4536-87e0-16cd9302a241"
      },
      "source": [
        "fd=open(\"purchase.json\",\"r\")\n",
        "txt=fd.read()\n",
        "fd.close()\n",
        "txt\n"
      ],
      "execution_count": 109,
      "outputs": [
        {
          "output_type": "execute_result",
          "data": {
            "application/vnd.google.colaboratory.intrinsic+json": {
              "type": "string"
            },
            "text/plain": [
              "'{\"EID1001\": {\"Name\": \"Zebronics Powerplus\", \"Quantity\": 40, \"Price\": 599, \"Category\": \"Speaker\", \"Special Feature\": \"High Sound\"}, \"EID1002\": {\"Name\": \"Boat stone 190f\", \"Quantity\": 50, \"Price\": 999, \"Category\": \"Speaker\", \"Special Feature\": \"High Bass\"}, \"EID1003\": {\"Name\": \"Mivi Play 5w\", \"Quantity\": 35, \"Price\": 499, \"Category\": \"Speaker\", \"Special Feature\": \"High Bass\"}, \"EID1004\": {\"Name\": \"One Plus Bullets\", \"Quantity\": 30, \"Price\": 1599, \"Category\": \"Speaker\", \"Special Feature\": \"High Bass\"}, \"EID1005\": {\"Name\": \"Boat Rockerz\", \"Quantity\": 42, \"Price\": 899, \"Category\": \"Speaker\", \"Special Feature\": \"High Sound\"}, \"EID1006\": {\"Name\": \"Redmi Trimmer\", \"Quantity\": 80, \"Price\": 1499, \"Category\": \"Trimmer\", \"Special Feature\": \"Water Resistant\"}, \"EID1007\": {\"Name\": \"Realme Trimmer\", \"Quantity\": 50, \"Price\": 1599, \"Category\": \"Trimmer\", \"Special Feature\": \"Long Battery Life\"}, \"EID1008\": {\"Name\": \"Realme 5\", \"Quantity\": 58, \"Price\": 12999, \"Category\": \"Phone\", \"Special Feature\": \"48Mp cam\"}, \"EID1009\": {\"Name\": \"Realme Narzo 10\", \"Quantity\": 80, \"Price\": 11999, \"Category\": \"Phone\", \"Special Feature\": \"64Mp cam\"}, \"EID1010\": {\"Name\": \"Redmi 9i\", \"Quantity\": 73, \"Price\": 9299, \"Category\": \"Phone\", \"Special Feature\": \"Low Cost\"}, \"EID1011\": {\"Name\": \"Redmi Note 9\", \"Quantity\": 45, \"Price\": 10999, \"Category\": \"Phone\", \"Special Feature\": \"Long Battery Life\"}, \"EID1012\": {\"Name\": \"Redmi Note 10\", \"Quantity\": 45, \"Price\": 11999, \"Category\": \"Phone\", \"Special Feature\": \"64Mp Selfie Cam\"}, \"EID1013\": {\"Name\": \"One Plus XT\", \"Quantity\": 25, \"Price\": 25999, \"Category\": \"Phone\", \"Special Feature\": \"108Mp Quad cam\"}, \"EID1014\": {\"Name\": \"IPhone XR\", \"Quantity\": 30, \"Price\": 35000, \"Category\": \"Phone\", \"Special Feature\": \"Camera and Processor\"}, \"EID1015\": {\"Name\": \"Realme XT\", \"Quantity\": 55, \"Price\": 20000, \"Category\": \"Phone\", \"Special Feature\": \"Long Battery Life\"}, \"EID1016\": {\"Name\": \"Mi Powerbank\", \"Quantity\": 80, \"Price\": 799, \"Category\": \"Powerbank\", \"Special Feature\": \"Fast Charging\"}, \"EID1017\": {\"Name\": \"Realme Powerbank\", \"Quantity\": 56, \"Price\": 899, \"Category\": \"Powerbank\", \"Special Feature\": \"Fast Charging\"}, \"EID1018\": {\"Name\": \"Mi USB Cable\", \"Quantity\": 100, \"Price\": 199, \"Category\": \"Cable\", \"Special Feature\": \"Fast Data Transfer\"}, \"EID1019\": {\"Name\": \"Realme USB Cable\", \"Quantity\": 100, \"Price\": 199, \"Category\": \"Cable\", \"Special Feature\": \"upto 3A charge\"}, \"EID1020\": {\"Name\": \"Mi 11X\", \"Quantity\": 33, \"Price\": 40000, \"Category\": \"Phone\", \"Special Feature\": \"Qualcomm Snapdragon 920G\"}, \"EID1021\": {\"Name\": \"Mi 10T\", \"Quantity\": 30, \"Price\": 29999, \"Category\": \"Phone\", \"Special Feature\": \"Qualcomm Snapdragon 720G\"}, \"EID1022\": {\"Name\": \"Redmi Note 10 Pro Max\", \"Quantity\": 35, \"Price\": 18999, \"Category\": \"Phone\", \"Special Feature\": \"Snapdragon 88f\"}, \"EID1023\": {\"Name\": \"Redmi 9 Prime\", \"Quantity\": 32, \"Price\": 11999, \"Category\": \"Phone\", \"Special Feature\": \"108Mp Quad Cam\"}, \"EID1024\": {\"Name\": \"Redmi Smart X\", \"Quantity\": 17, \"Price\": 20999, \"Category\": \"TV\", \"Special Feature\": \"Sound Quality\"}, \"EID1025\": {\"Name\": \"Mi Tv 5X\", \"Quantity\": 20, \"Price\": 50000, \"Category\": \"TV\", \"Special Feature\": \"Big Screen\"}, \"EID1026\": {\"Name\": \"Mi Notebook\", \"Quantity\": 40, \"Price\": 45000, \"Category\": \"Laptop\", \"Special Feature\": \"Gaming PC\"}, \"EID1027\": {\"Name\": \"Hp Notebook\", \"Quantity\": 5, \"Price\": 52499, \"Category\": \"Laptop\", \"Special Feature\": \"Graphics Quality\"}, \"EID1028\": {\"Name\": \"Redmi Earbuds\", \"Quantity\": 80, \"Price\": 1899, \"Category\": \"Earbuds\", \"Special Feature\": \"IPX4 Rated\"}, \"EID1029\": {\"Name\": \"Realme Earbuds\", \"Quantity\": 85, \"Price\": 1999, \"Category\": \"Earbuds\", \"Special Feature\": \"IPX4 Rated\"}, \"EID1030\": {\"Name\": \"Boat Earbuds\", \"Quantity\": 70, \"Price\": 1399, \"Category\": \"Earbuds\", \"Special Feature\": \"IPX4 Rated\"}, \"EID1032\": {\"Name\": \"Moto 6G\", \"Quantity\": 15, \"Price\": 12999, \"Category\": \"phone\", \"Special Feature\": \" Large Storage\"}, \"EID1033\": {\"Name\": \"Dell Notebook\", \"Quantity\": 5, \"Price\": 59999, \"Category\": \"Laptop\", \"Special Feature\": \"Big Screen\"}}'"
            ]
          },
          "metadata": {},
          "execution_count": 109
        }
      ]
    },
    {
      "cell_type": "code",
      "metadata": {
        "id": "YdgJ4SLQe20a"
      },
      "source": [
        "record=json.loads(txt)"
      ],
      "execution_count": 110,
      "outputs": []
    },
    {
      "cell_type": "code",
      "metadata": {
        "colab": {
          "base_uri": "https://localhost:8080/"
        },
        "id": "YPVCq5fmfX0H",
        "outputId": "f900055d-f2ed-4f24-c79e-2519fb560ed2"
      },
      "source": [
        "type(record)\n"
      ],
      "execution_count": 111,
      "outputs": [
        {
          "output_type": "execute_result",
          "data": {
            "text/plain": [
              "dict"
            ]
          },
          "metadata": {},
          "execution_count": 111
        }
      ]
    },
    {
      "cell_type": "code",
      "metadata": {
        "colab": {
          "base_uri": "https://localhost:8080/"
        },
        "id": "ITHMIWAGfiiT",
        "outputId": "f247a861-2a46-4ed4-cbcb-7be222ee7aee"
      },
      "source": [
        "record"
      ],
      "execution_count": 112,
      "outputs": [
        {
          "output_type": "execute_result",
          "data": {
            "text/plain": [
              "{'EID1001': {'Category': 'Speaker',\n",
              "  'Name': 'Zebronics Powerplus',\n",
              "  'Price': 599,\n",
              "  'Quantity': 40,\n",
              "  'Special Feature': 'High Sound'},\n",
              " 'EID1002': {'Category': 'Speaker',\n",
              "  'Name': 'Boat stone 190f',\n",
              "  'Price': 999,\n",
              "  'Quantity': 50,\n",
              "  'Special Feature': 'High Bass'},\n",
              " 'EID1003': {'Category': 'Speaker',\n",
              "  'Name': 'Mivi Play 5w',\n",
              "  'Price': 499,\n",
              "  'Quantity': 35,\n",
              "  'Special Feature': 'High Bass'},\n",
              " 'EID1004': {'Category': 'Speaker',\n",
              "  'Name': 'One Plus Bullets',\n",
              "  'Price': 1599,\n",
              "  'Quantity': 30,\n",
              "  'Special Feature': 'High Bass'},\n",
              " 'EID1005': {'Category': 'Speaker',\n",
              "  'Name': 'Boat Rockerz',\n",
              "  'Price': 899,\n",
              "  'Quantity': 42,\n",
              "  'Special Feature': 'High Sound'},\n",
              " 'EID1006': {'Category': 'Trimmer',\n",
              "  'Name': 'Redmi Trimmer',\n",
              "  'Price': 1499,\n",
              "  'Quantity': 80,\n",
              "  'Special Feature': 'Water Resistant'},\n",
              " 'EID1007': {'Category': 'Trimmer',\n",
              "  'Name': 'Realme Trimmer',\n",
              "  'Price': 1599,\n",
              "  'Quantity': 50,\n",
              "  'Special Feature': 'Long Battery Life'},\n",
              " 'EID1008': {'Category': 'Phone',\n",
              "  'Name': 'Realme 5',\n",
              "  'Price': 12999,\n",
              "  'Quantity': 58,\n",
              "  'Special Feature': '48Mp cam'},\n",
              " 'EID1009': {'Category': 'Phone',\n",
              "  'Name': 'Realme Narzo 10',\n",
              "  'Price': 11999,\n",
              "  'Quantity': 80,\n",
              "  'Special Feature': '64Mp cam'},\n",
              " 'EID1010': {'Category': 'Phone',\n",
              "  'Name': 'Redmi 9i',\n",
              "  'Price': 9299,\n",
              "  'Quantity': 73,\n",
              "  'Special Feature': 'Low Cost'},\n",
              " 'EID1011': {'Category': 'Phone',\n",
              "  'Name': 'Redmi Note 9',\n",
              "  'Price': 10999,\n",
              "  'Quantity': 45,\n",
              "  'Special Feature': 'Long Battery Life'},\n",
              " 'EID1012': {'Category': 'Phone',\n",
              "  'Name': 'Redmi Note 10',\n",
              "  'Price': 11999,\n",
              "  'Quantity': 45,\n",
              "  'Special Feature': '64Mp Selfie Cam'},\n",
              " 'EID1013': {'Category': 'Phone',\n",
              "  'Name': 'One Plus XT',\n",
              "  'Price': 25999,\n",
              "  'Quantity': 25,\n",
              "  'Special Feature': '108Mp Quad cam'},\n",
              " 'EID1014': {'Category': 'Phone',\n",
              "  'Name': 'IPhone XR',\n",
              "  'Price': 35000,\n",
              "  'Quantity': 30,\n",
              "  'Special Feature': 'Camera and Processor'},\n",
              " 'EID1015': {'Category': 'Phone',\n",
              "  'Name': 'Realme XT',\n",
              "  'Price': 20000,\n",
              "  'Quantity': 55,\n",
              "  'Special Feature': 'Long Battery Life'},\n",
              " 'EID1016': {'Category': 'Powerbank',\n",
              "  'Name': 'Mi Powerbank',\n",
              "  'Price': 799,\n",
              "  'Quantity': 80,\n",
              "  'Special Feature': 'Fast Charging'},\n",
              " 'EID1017': {'Category': 'Powerbank',\n",
              "  'Name': 'Realme Powerbank',\n",
              "  'Price': 899,\n",
              "  'Quantity': 56,\n",
              "  'Special Feature': 'Fast Charging'},\n",
              " 'EID1018': {'Category': 'Cable',\n",
              "  'Name': 'Mi USB Cable',\n",
              "  'Price': 199,\n",
              "  'Quantity': 100,\n",
              "  'Special Feature': 'Fast Data Transfer'},\n",
              " 'EID1019': {'Category': 'Cable',\n",
              "  'Name': 'Realme USB Cable',\n",
              "  'Price': 199,\n",
              "  'Quantity': 100,\n",
              "  'Special Feature': 'upto 3A charge'},\n",
              " 'EID1020': {'Category': 'Phone',\n",
              "  'Name': 'Mi 11X',\n",
              "  'Price': 40000,\n",
              "  'Quantity': 33,\n",
              "  'Special Feature': 'Qualcomm Snapdragon 920G'},\n",
              " 'EID1021': {'Category': 'Phone',\n",
              "  'Name': 'Mi 10T',\n",
              "  'Price': 29999,\n",
              "  'Quantity': 30,\n",
              "  'Special Feature': 'Qualcomm Snapdragon 720G'},\n",
              " 'EID1022': {'Category': 'Phone',\n",
              "  'Name': 'Redmi Note 10 Pro Max',\n",
              "  'Price': 18999,\n",
              "  'Quantity': 35,\n",
              "  'Special Feature': 'Snapdragon 88f'},\n",
              " 'EID1023': {'Category': 'Phone',\n",
              "  'Name': 'Redmi 9 Prime',\n",
              "  'Price': 11999,\n",
              "  'Quantity': 32,\n",
              "  'Special Feature': '108Mp Quad Cam'},\n",
              " 'EID1024': {'Category': 'TV',\n",
              "  'Name': 'Redmi Smart X',\n",
              "  'Price': 20999,\n",
              "  'Quantity': 17,\n",
              "  'Special Feature': 'Sound Quality'},\n",
              " 'EID1025': {'Category': 'TV',\n",
              "  'Name': 'Mi Tv 5X',\n",
              "  'Price': 50000,\n",
              "  'Quantity': 20,\n",
              "  'Special Feature': 'Big Screen'},\n",
              " 'EID1026': {'Category': 'Laptop',\n",
              "  'Name': 'Mi Notebook',\n",
              "  'Price': 45000,\n",
              "  'Quantity': 40,\n",
              "  'Special Feature': 'Gaming PC'},\n",
              " 'EID1027': {'Category': 'Laptop',\n",
              "  'Name': 'Hp Notebook',\n",
              "  'Price': 52499,\n",
              "  'Quantity': 5,\n",
              "  'Special Feature': 'Graphics Quality'},\n",
              " 'EID1028': {'Category': 'Earbuds',\n",
              "  'Name': 'Redmi Earbuds',\n",
              "  'Price': 1899,\n",
              "  'Quantity': 80,\n",
              "  'Special Feature': 'IPX4 Rated'},\n",
              " 'EID1029': {'Category': 'Earbuds',\n",
              "  'Name': 'Realme Earbuds',\n",
              "  'Price': 1999,\n",
              "  'Quantity': 85,\n",
              "  'Special Feature': 'IPX4 Rated'},\n",
              " 'EID1030': {'Category': 'Earbuds',\n",
              "  'Name': 'Boat Earbuds',\n",
              "  'Price': 1399,\n",
              "  'Quantity': 70,\n",
              "  'Special Feature': 'IPX4 Rated'},\n",
              " 'EID1032': {'Category': 'phone',\n",
              "  'Name': 'Moto 6G',\n",
              "  'Price': 12999,\n",
              "  'Quantity': 15,\n",
              "  'Special Feature': ' Large Storage'},\n",
              " 'EID1033': {'Category': 'Laptop',\n",
              "  'Name': 'Dell Notebook',\n",
              "  'Price': 59999,\n",
              "  'Quantity': 5,\n",
              "  'Special Feature': 'Big Screen'}}"
            ]
          },
          "metadata": {},
          "execution_count": 112
        }
      ]
    },
    {
      "cell_type": "code",
      "metadata": {
        "id": "uW4i2lMTfjxt"
      },
      "source": [
        "sales={1:{'product ID':user1,\"Quantity\":us_Quantity1,\"Amount\":record[user1]['Price']*us_Quantity1},\n",
        "      2:{'product ID':user2,\"Quantity\":us_Quantity2,\"Amount\":record[user2]['Price']*us_Quantity2},\n",
        "      3: {'product ID':user3,\"Quantity\":us_Quantity3,\"Amount\":record[user3]['Price']*us_Quantity3},\n",
        "      4:{'product ID':user4,\"Quantity\":us_Quantity4,\"Amount\":record[user4]['Price']*us_Quantity4},\n",
        "      5:{'product ID':user5,\"Quantity\":us_Quantity5,\"Amount\":record[user5]['Price']*us_Quantity5} ,\n",
        "      6:{'product ID':user6,\"Quantity\":us_Quantity6,\"Amount\":record[user6]['Price']*us_Quantity6},\n",
        "      7:{'product ID':user7,\"Quantity\":us_Quantity7,\"Amount\":record[user7]['Price']*us_Quantity7},\n",
        "      8:{'product ID':user8,\"Quantity\":us_Quantity8,\"Amount\":record[user8]['Price']*us_Quantity8},\n",
        "      9:{'product ID':user9,\"Quantity\":us_Quantity9,\"Amount\":record[user9]['Price']*us_Quantity9},\n",
        "      10:{'product ID':user10,\"Quantity\":us_Quantity10,\"Amount\":record[user10]['Price']*us_Quantity10} }\n"
      ],
      "execution_count": 115,
      "outputs": []
    },
    {
      "cell_type": "code",
      "metadata": {
        "colab": {
          "base_uri": "https://localhost:8080/",
          "height": 102
        },
        "id": "hr5yzp9BjNdT",
        "outputId": "d76757dd-66be-4f05-e471-3a8fdcaa5fa6"
      },
      "source": [
        "json.dumps(sales)"
      ],
      "execution_count": 116,
      "outputs": [
        {
          "output_type": "execute_result",
          "data": {
            "application/vnd.google.colaboratory.intrinsic+json": {
              "type": "string"
            },
            "text/plain": [
              "'{\"1\": {\"product ID\": \"EID1010\", \"Quantity\": 2, \"Amount\": 18598}, \"2\": {\"product ID\": \"EID1025\", \"Quantity\": 10, \"Amount\": 500000}, \"3\": {\"product ID\": \"EID1033\", \"Quantity\": 5, \"Amount\": 299995}, \"4\": {\"product ID\": \"EID1011\", \"Quantity\": 5, \"Amount\": 54995}, \"5\": {\"product ID\": \"EID1023\", \"Quantity\": 3, \"Amount\": 35997}, \"6\": {\"product ID\": \"EID1008\", \"Quantity\": 1, \"Amount\": 12999}, \"7\": {\"product ID\": \"EID1024\", \"Quantity\": 3, \"Amount\": 62997}, \"8\": {\"product ID\": \"EID1027\", \"Quantity\": 15, \"Amount\": 787485}, \"9\": {\"product ID\": \"EID1017\", \"Quantity\": 4, \"Amount\": 3596}, \"10\": {\"product ID\": \"EID1020\", \"Quantity\": 7, \"Amount\": 280000}}'"
            ]
          },
          "metadata": {},
          "execution_count": 116
        }
      ]
    },
    {
      "cell_type": "code",
      "metadata": {
        "id": "o8ou9DezkBvK"
      },
      "source": [
        ""
      ],
      "execution_count": null,
      "outputs": []
    },
    {
      "cell_type": "code",
      "metadata": {
        "colab": {
          "base_uri": "https://localhost:8080/"
        },
        "id": "I1IJnYtYkSUO",
        "outputId": "8adaee9a-2e68-426e-8083-75b695d4b828"
      },
      "source": [
        "sales"
      ],
      "execution_count": 117,
      "outputs": [
        {
          "output_type": "execute_result",
          "data": {
            "text/plain": [
              "{1: {'Amount': 18598, 'Quantity': 2, 'product ID': 'EID1010'},\n",
              " 2: {'Amount': 500000, 'Quantity': 10, 'product ID': 'EID1025'},\n",
              " 3: {'Amount': 299995, 'Quantity': 5, 'product ID': 'EID1033'},\n",
              " 4: {'Amount': 54995, 'Quantity': 5, 'product ID': 'EID1011'},\n",
              " 5: {'Amount': 35997, 'Quantity': 3, 'product ID': 'EID1023'},\n",
              " 6: {'Amount': 12999, 'Quantity': 1, 'product ID': 'EID1008'},\n",
              " 7: {'Amount': 62997, 'Quantity': 3, 'product ID': 'EID1024'},\n",
              " 8: {'Amount': 787485, 'Quantity': 15, 'product ID': 'EID1027'},\n",
              " 9: {'Amount': 3596, 'Quantity': 4, 'product ID': 'EID1017'},\n",
              " 10: {'Amount': 280000, 'Quantity': 7, 'product ID': 'EID1020'}}"
            ]
          },
          "metadata": {},
          "execution_count": 117
        }
      ]
    },
    {
      "cell_type": "code",
      "metadata": {
        "id": "9R92kdBIZXFF"
      },
      "source": [
        "js=json.dumps(sales)\n",
        "fd=open('sales.json',\"w\")\n",
        "fd.write(js)\n",
        "fd.close()"
      ],
      "execution_count": 120,
      "outputs": []
    }
  ]
}